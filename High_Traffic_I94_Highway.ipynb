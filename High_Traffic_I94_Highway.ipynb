{
  "nbformat": 4,
  "nbformat_minor": 0,
  "metadata": {
    "colab": {
      "name": "High_Traffic_I94_Highway.ipynb",
      "provenance": [],
      "collapsed_sections": [],
      "toc_visible": true,
      "mount_file_id": "1kUMq4tZFAf-GWFmbvfXlbf71PJkLgb2k",
      "authorship_tag": "ABX9TyNtCRF8EnbjfiWF4JOMBFpq"
    },
    "kernelspec": {
      "name": "python3",
      "display_name": "Python 3"
    },
    "language_info": {
      "name": "python"
    }
  },
  "cells": [
    {
      "cell_type": "markdown",
      "metadata": {
        "id": "Cd3BmwD9FpJQ"
      },
      "source": [
        "# **Analysing signal of immense traffic on I94 Highway** "
      ]
    },
    {
      "cell_type": "markdown",
      "metadata": {
        "id": "uFk41utoFteV"
      },
      "source": [
        "## **Introduction**\n",
        "In this project, We're going to analyze a dataset about the westbound traffic on the I-94 Interstate highway.\n",
        "\n",
        "John Hogue made the dataset available, and you can download it from the [UCI Machine Learning Repository](https://archive.ics.uci.edu/ml/datasets/Metro+Interstate+Traffic+Volume)."
      ]
    },
    {
      "cell_type": "markdown",
      "metadata": {
        "id": "xv5wv4AqDUNo"
      },
      "source": [
        "### ***Goal of the project***\n",
        "\n",
        "The main of this project to identify the indicator due to which heavy traffic on I-94 highway. They might be **weather, time of the day or day of the week and others.**"
      ]
    },
    {
      "cell_type": "markdown",
      "metadata": {
        "id": "VYtDnO2xA2j7"
      },
      "source": [
        "- **temp**- Numeric Average temp in kelvin\n",
        "- **rain_1h**- Numeric Amount in mm of rain that occurred in the hour\n",
        "- **snow_1h**- Numeric Amount in mm of snow that occurred in the hour\n",
        "- **clouds_all**- Numeric Percentage of cloud cover\n",
        "- **weather_main**- Categorical Short textual description of the current weather\n",
        "- **weather_description**- Categorical Longer textual description of the current weather\n",
        "- **date_time**- DateTime Hour of the data collected in local CST time\n",
        "- **traffic_volume**- Numeric Hourly I-94 ATR 301 reported westbound traffic volume\n",
        "\n"
      ]
    },
    {
      "cell_type": "code",
      "metadata": {
        "id": "6AKXOB73Ywxr"
      },
      "source": [
        "import pandas as pd\n",
        "import matplotlib.pyplot as plt\n",
        "%matplotlib inline\n",
        "traffic = pd.read_csv(\"/content/drive/MyDrive/Dataset/Metro_Interstate_Traffic_Volume.csv\")"
      ],
      "execution_count": null,
      "outputs": []
    },
    {
      "cell_type": "code",
      "metadata": {
        "id": "Ag23_PMmf0Hm",
        "colab": {
          "base_uri": "https://localhost:8080/"
        },
        "outputId": "82b3548d-3ec5-4b36-effe-2f935d1809f0"
      },
      "source": [
        "traffic.info()"
      ],
      "execution_count": null,
      "outputs": [
        {
          "output_type": "stream",
          "text": [
            "<class 'pandas.core.frame.DataFrame'>\n",
            "RangeIndex: 48204 entries, 0 to 48203\n",
            "Data columns (total 9 columns):\n",
            " #   Column               Non-Null Count  Dtype  \n",
            "---  ------               --------------  -----  \n",
            " 0   holiday              48204 non-null  object \n",
            " 1   temp                 48204 non-null  float64\n",
            " 2   rain_1h              48204 non-null  float64\n",
            " 3   snow_1h              48204 non-null  float64\n",
            " 4   clouds_all           48204 non-null  int64  \n",
            " 5   weather_main         48204 non-null  object \n",
            " 6   weather_description  48204 non-null  object \n",
            " 7   date_time            48204 non-null  object \n",
            " 8   traffic_volume       48204 non-null  int64  \n",
            "dtypes: float64(3), int64(2), object(4)\n",
            "memory usage: 3.3+ MB\n"
          ],
          "name": "stdout"
        }
      ]
    },
    {
      "cell_type": "code",
      "metadata": {
        "id": "TKFIb5U8f68U",
        "colab": {
          "base_uri": "https://localhost:8080/",
          "height": 204
        },
        "outputId": "b5c1e65d-f770-420f-e8dd-bb51de7c6e37"
      },
      "source": [
        "traffic.head()"
      ],
      "execution_count": null,
      "outputs": [
        {
          "output_type": "execute_result",
          "data": {
            "text/html": [
              "<div>\n",
              "<style scoped>\n",
              "    .dataframe tbody tr th:only-of-type {\n",
              "        vertical-align: middle;\n",
              "    }\n",
              "\n",
              "    .dataframe tbody tr th {\n",
              "        vertical-align: top;\n",
              "    }\n",
              "\n",
              "    .dataframe thead th {\n",
              "        text-align: right;\n",
              "    }\n",
              "</style>\n",
              "<table border=\"1\" class=\"dataframe\">\n",
              "  <thead>\n",
              "    <tr style=\"text-align: right;\">\n",
              "      <th></th>\n",
              "      <th>holiday</th>\n",
              "      <th>temp</th>\n",
              "      <th>rain_1h</th>\n",
              "      <th>snow_1h</th>\n",
              "      <th>clouds_all</th>\n",
              "      <th>weather_main</th>\n",
              "      <th>weather_description</th>\n",
              "      <th>date_time</th>\n",
              "      <th>traffic_volume</th>\n",
              "    </tr>\n",
              "  </thead>\n",
              "  <tbody>\n",
              "    <tr>\n",
              "      <th>0</th>\n",
              "      <td>None</td>\n",
              "      <td>288.28</td>\n",
              "      <td>0.0</td>\n",
              "      <td>0.0</td>\n",
              "      <td>40</td>\n",
              "      <td>Clouds</td>\n",
              "      <td>scattered clouds</td>\n",
              "      <td>2012-10-02 09:00:00</td>\n",
              "      <td>5545</td>\n",
              "    </tr>\n",
              "    <tr>\n",
              "      <th>1</th>\n",
              "      <td>None</td>\n",
              "      <td>289.36</td>\n",
              "      <td>0.0</td>\n",
              "      <td>0.0</td>\n",
              "      <td>75</td>\n",
              "      <td>Clouds</td>\n",
              "      <td>broken clouds</td>\n",
              "      <td>2012-10-02 10:00:00</td>\n",
              "      <td>4516</td>\n",
              "    </tr>\n",
              "    <tr>\n",
              "      <th>2</th>\n",
              "      <td>None</td>\n",
              "      <td>289.58</td>\n",
              "      <td>0.0</td>\n",
              "      <td>0.0</td>\n",
              "      <td>90</td>\n",
              "      <td>Clouds</td>\n",
              "      <td>overcast clouds</td>\n",
              "      <td>2012-10-02 11:00:00</td>\n",
              "      <td>4767</td>\n",
              "    </tr>\n",
              "    <tr>\n",
              "      <th>3</th>\n",
              "      <td>None</td>\n",
              "      <td>290.13</td>\n",
              "      <td>0.0</td>\n",
              "      <td>0.0</td>\n",
              "      <td>90</td>\n",
              "      <td>Clouds</td>\n",
              "      <td>overcast clouds</td>\n",
              "      <td>2012-10-02 12:00:00</td>\n",
              "      <td>5026</td>\n",
              "    </tr>\n",
              "    <tr>\n",
              "      <th>4</th>\n",
              "      <td>None</td>\n",
              "      <td>291.14</td>\n",
              "      <td>0.0</td>\n",
              "      <td>0.0</td>\n",
              "      <td>75</td>\n",
              "      <td>Clouds</td>\n",
              "      <td>broken clouds</td>\n",
              "      <td>2012-10-02 13:00:00</td>\n",
              "      <td>4918</td>\n",
              "    </tr>\n",
              "  </tbody>\n",
              "</table>\n",
              "</div>"
            ],
            "text/plain": [
              "  holiday    temp  ...            date_time  traffic_volume\n",
              "0    None  288.28  ...  2012-10-02 09:00:00            5545\n",
              "1    None  289.36  ...  2012-10-02 10:00:00            4516\n",
              "2    None  289.58  ...  2012-10-02 11:00:00            4767\n",
              "3    None  290.13  ...  2012-10-02 12:00:00            5026\n",
              "4    None  291.14  ...  2012-10-02 13:00:00            4918\n",
              "\n",
              "[5 rows x 9 columns]"
            ]
          },
          "metadata": {},
          "execution_count": 25
        }
      ]
    },
    {
      "cell_type": "code",
      "metadata": {
        "id": "3COnYmy1f-Hy",
        "colab": {
          "base_uri": "https://localhost:8080/",
          "height": 204
        },
        "outputId": "6c55aa43-7a52-4825-ca42-fb2e3a9ee059"
      },
      "source": [
        "traffic.tail()"
      ],
      "execution_count": null,
      "outputs": [
        {
          "output_type": "execute_result",
          "data": {
            "text/html": [
              "<div>\n",
              "<style scoped>\n",
              "    .dataframe tbody tr th:only-of-type {\n",
              "        vertical-align: middle;\n",
              "    }\n",
              "\n",
              "    .dataframe tbody tr th {\n",
              "        vertical-align: top;\n",
              "    }\n",
              "\n",
              "    .dataframe thead th {\n",
              "        text-align: right;\n",
              "    }\n",
              "</style>\n",
              "<table border=\"1\" class=\"dataframe\">\n",
              "  <thead>\n",
              "    <tr style=\"text-align: right;\">\n",
              "      <th></th>\n",
              "      <th>holiday</th>\n",
              "      <th>temp</th>\n",
              "      <th>rain_1h</th>\n",
              "      <th>snow_1h</th>\n",
              "      <th>clouds_all</th>\n",
              "      <th>weather_main</th>\n",
              "      <th>weather_description</th>\n",
              "      <th>date_time</th>\n",
              "      <th>traffic_volume</th>\n",
              "    </tr>\n",
              "  </thead>\n",
              "  <tbody>\n",
              "    <tr>\n",
              "      <th>48199</th>\n",
              "      <td>None</td>\n",
              "      <td>283.45</td>\n",
              "      <td>0.0</td>\n",
              "      <td>0.0</td>\n",
              "      <td>75</td>\n",
              "      <td>Clouds</td>\n",
              "      <td>broken clouds</td>\n",
              "      <td>2018-09-30 19:00:00</td>\n",
              "      <td>3543</td>\n",
              "    </tr>\n",
              "    <tr>\n",
              "      <th>48200</th>\n",
              "      <td>None</td>\n",
              "      <td>282.76</td>\n",
              "      <td>0.0</td>\n",
              "      <td>0.0</td>\n",
              "      <td>90</td>\n",
              "      <td>Clouds</td>\n",
              "      <td>overcast clouds</td>\n",
              "      <td>2018-09-30 20:00:00</td>\n",
              "      <td>2781</td>\n",
              "    </tr>\n",
              "    <tr>\n",
              "      <th>48201</th>\n",
              "      <td>None</td>\n",
              "      <td>282.73</td>\n",
              "      <td>0.0</td>\n",
              "      <td>0.0</td>\n",
              "      <td>90</td>\n",
              "      <td>Thunderstorm</td>\n",
              "      <td>proximity thunderstorm</td>\n",
              "      <td>2018-09-30 21:00:00</td>\n",
              "      <td>2159</td>\n",
              "    </tr>\n",
              "    <tr>\n",
              "      <th>48202</th>\n",
              "      <td>None</td>\n",
              "      <td>282.09</td>\n",
              "      <td>0.0</td>\n",
              "      <td>0.0</td>\n",
              "      <td>90</td>\n",
              "      <td>Clouds</td>\n",
              "      <td>overcast clouds</td>\n",
              "      <td>2018-09-30 22:00:00</td>\n",
              "      <td>1450</td>\n",
              "    </tr>\n",
              "    <tr>\n",
              "      <th>48203</th>\n",
              "      <td>None</td>\n",
              "      <td>282.12</td>\n",
              "      <td>0.0</td>\n",
              "      <td>0.0</td>\n",
              "      <td>90</td>\n",
              "      <td>Clouds</td>\n",
              "      <td>overcast clouds</td>\n",
              "      <td>2018-09-30 23:00:00</td>\n",
              "      <td>954</td>\n",
              "    </tr>\n",
              "  </tbody>\n",
              "</table>\n",
              "</div>"
            ],
            "text/plain": [
              "      holiday    temp  ...            date_time  traffic_volume\n",
              "48199    None  283.45  ...  2018-09-30 19:00:00            3543\n",
              "48200    None  282.76  ...  2018-09-30 20:00:00            2781\n",
              "48201    None  282.73  ...  2018-09-30 21:00:00            2159\n",
              "48202    None  282.09  ...  2018-09-30 22:00:00            1450\n",
              "48203    None  282.12  ...  2018-09-30 23:00:00             954\n",
              "\n",
              "[5 rows x 9 columns]"
            ]
          },
          "metadata": {},
          "execution_count": 26
        }
      ]
    },
    {
      "cell_type": "code",
      "metadata": {
        "id": "ia5D0HT2gkgs",
        "colab": {
          "base_uri": "https://localhost:8080/",
          "height": 265
        },
        "outputId": "830e1426-c89b-4e33-f925-de6805758eec"
      },
      "source": [
        "traffic[\"traffic_volume\"].plot.hist()\n",
        "plt.show()"
      ],
      "execution_count": null,
      "outputs": [
        {
          "output_type": "display_data",
          "data": {
            "image/png": "[encoded data removed]",
            "text/plain": [
              "<Figure size 432x288 with 1 Axes>"
            ]
          },
          "metadata": {
            "needs_background": "light"
          }
        }
      ]
    },
    {
      "cell_type": "code",
      "metadata": {
        "id": "G0oFaUIchFy0",
        "colab": {
          "base_uri": "https://localhost:8080/"
        },
        "outputId": "02b0ff59-1e0d-4426-c15a-c86c8f20139d"
      },
      "source": [
        "traffic[\"traffic_volume\"].describe()"
      ],
      "execution_count": null,
      "outputs": [
        {
          "output_type": "execute_result",
          "data": {
            "text/plain": [
              "count    48204.000000\n",
              "mean      3259.818355\n",
              "std       1986.860670\n",
              "min          0.000000\n",
              "25%       1193.000000\n",
              "50%       3380.000000\n",
              "75%       4933.000000\n",
              "max       7280.000000\n",
              "Name: traffic_volume, dtype: float64"
            ]
          },
          "metadata": {},
          "execution_count": 29
        }
      ]
    },
    {
      "cell_type": "markdown",
      "metadata": {
        "id": "I9V3eaBM_LAI"
      },
      "source": [
        "- The minimum value is zero while maximum is 7280 veichle.\n",
        "- It contains two peaks approx 8000 values for 0~500 veichles/hr and 4500-5000 veichles/hr which depicts night and day time respectively.\n",
        "- Average traffic per hour is 3259 veichles/hr.\n",
        "- It can be seen 25% time 1193 veichles on the road while 75% of the time 4933 veichles on the road . These diffrence may be night time or day time or also possible repairing going on the highway. "
      ]
    },
    {
      "cell_type": "code",
      "metadata": {
        "id": "S0I2dEaU-CDz"
      },
      "source": [
        "# lets seprate data into day (7AM to 7PM) and night time (7PM to 7AM) for better understanding the dataset\n",
        "\n",
        "# converting date_time column to date_time object\n",
        "traffic[\"date_time\"] = pd.to_datetime(traffic[\"date_time\"])"
      ],
      "execution_count": null,
      "outputs": []
    },
    {
      "cell_type": "code",
      "metadata": {
        "id": "UN03gsrnEK6Q"
      },
      "source": [
        "# day time\n",
        "day = traffic.copy()[(traffic[\"date_time\"].dt.hour >= 7) & (traffic[\"date_time\"].dt.hour < 19)]\n",
        "\n",
        "# night time\n",
        "night = traffic.copy()[(traffic[\"date_time\"].dt.hour >= 19) | (traffic[\"date_time\"].dt.hour < 7)]\n"
      ],
      "execution_count": null,
      "outputs": []
    },
    {
      "cell_type": "code",
      "metadata": {
        "colab": {
          "base_uri": "https://localhost:8080/",
          "height": 241
        },
        "id": "SieAbzI6FazR",
        "outputId": "d61ac5b1-e211-4277-f5f7-53a470ff0676"
      },
      "source": [
        "plt.figure(figsize = (10,3))\n",
        "plt.subplot(1,2,1)\n",
        "plt.hist(day[\"traffic_volume\"])\n",
        "plt.xlim(0, 8000)\n",
        "plt.ylim(0, 8000)\n",
        "plt.xlabel(\"Traffic Volume\")\n",
        "plt.ylabel(\"Frequency\")\n",
        "plt.title(\"Traffic Volume(Day)\",weight=\"bold\")\n",
        "\n",
        "plt.subplot(1,2,2)\n",
        "plt.hist(night[\"traffic_volume\"])\n",
        "plt.xlim(0,8000)\n",
        "plt.ylim(0,8000)\n",
        "plt.xlabel(\"Traffic Volume\")\n",
        "plt.ylabel(\"Frequency\")\n",
        "plt.title(\"Traffic Volume(Night)\", weight=\"bold\")\n",
        "plt.show()"
      ],
      "execution_count": null,
      "outputs": [
        {
          "output_type": "display_data",
          "data": {
            "image/png": "[encoded data removed]",
            "text/plain": [
              "<Figure size 720x216 with 2 Axes>"
            ]
          },
          "metadata": {
            "needs_background": "light"
          }
        }
      ]
    },
    {
      "cell_type": "code",
      "metadata": {
        "colab": {
          "base_uri": "https://localhost:8080/"
        },
        "id": "YprLdx5pRGRi",
        "outputId": "7c666a34-4f87-42a4-e7f1-ac8a9cd87880"
      },
      "source": [
        "day[\"traffic_volume\"].describe()"
      ],
      "execution_count": null,
      "outputs": [
        {
          "output_type": "execute_result",
          "data": {
            "text/plain": [
              "count    23877.000000\n",
              "mean      4762.047452\n",
              "std       1174.546482\n",
              "min          0.000000\n",
              "25%       4252.000000\n",
              "50%       4820.000000\n",
              "75%       5559.000000\n",
              "max       7280.000000\n",
              "Name: traffic_volume, dtype: float64"
            ]
          },
          "metadata": {},
          "execution_count": 33
        }
      ]
    },
    {
      "cell_type": "code",
      "metadata": {
        "colab": {
          "base_uri": "https://localhost:8080/"
        },
        "id": "q_RYKXxPSWG4",
        "outputId": "e6045f64-8d7b-4344-e0ff-f42e3c8a9034"
      },
      "source": [
        "night[\"traffic_volume\"].describe()"
      ],
      "execution_count": null,
      "outputs": [
        {
          "output_type": "execute_result",
          "data": {
            "text/plain": [
              "count    24327.000000\n",
              "mean      1785.377441\n",
              "std       1441.951197\n",
              "min          0.000000\n",
              "25%        530.000000\n",
              "50%       1287.000000\n",
              "75%       2819.000000\n",
              "max       6386.000000\n",
              "Name: traffic_volume, dtype: float64"
            ]
          },
          "metadata": {},
          "execution_count": 34
        }
      ]
    },
    {
      "cell_type": "markdown",
      "metadata": {
        "id": "W3if6X8kVG4P"
      },
      "source": [
        "## **How different time of the day affect traffic**\n",
        "\n",
        "As we seen generally that there is a certain period of time where traffic will be higher. \n",
        "\n",
        "So, let look 3 diffrent time frames:-\n",
        "\n",
        "- Month\n",
        "- Week\n",
        "- Hour\n"
      ]
    },
    {
      "cell_type": "markdown",
      "metadata": {
        "id": "WAWXDVgnV-mI"
      },
      "source": [
        "### ***Traffic Monthly***"
      ]
    },
    {
      "cell_type": "code",
      "metadata": {
        "colab": {
          "base_uri": "https://localhost:8080/"
        },
        "id": "sePrTinxWT8f",
        "outputId": "ae1cdd5b-d6c7-4e17-9750-de11131a8ff5"
      },
      "source": [
        "day[\"month\"] = day[\"date_time\"].dt.month\n",
        "\n",
        "month = day.groupby(\"month\").mean()\n",
        "month[\"traffic_volume\"]"
      ],
      "execution_count": null,
      "outputs": [
        {
          "output_type": "execute_result",
          "data": {
            "text/plain": [
              "month\n",
              "1     4495.613727\n",
              "2     4711.198394\n",
              "3     4889.409560\n",
              "4     4906.894305\n",
              "5     4911.121609\n",
              "6     4898.019566\n",
              "7     4595.035744\n",
              "8     4928.302035\n",
              "9     4870.783145\n",
              "10    4921.234922\n",
              "11    4704.094319\n",
              "12    4374.834566\n",
              "Name: traffic_volume, dtype: float64"
            ]
          },
          "metadata": {},
          "execution_count": 35
        }
      ]
    },
    {
      "cell_type": "code",
      "metadata": {
        "colab": {
          "base_uri": "https://localhost:8080/",
          "height": 241
        },
        "id": "FRnnkRLFXFZJ",
        "outputId": "22e11828-9e0e-4f5d-b6ed-605e00171cdb"
      },
      "source": [
        "plt.figure(figsize=(4.5,3))\n",
        "month[\"traffic_volume\"].plot.line()\n",
        "plt.xlim(1,12)\n",
        "plt.xlabel(\"Month\")\n",
        "plt.ylabel(\"Frequency\")\n",
        "plt.title(\"Average traffic per month\", weight=\"bold\")\n",
        "plt.show()"
      ],
      "execution_count": null,
      "outputs": [
        {
          "output_type": "display_data",
          "data": {
            "image/png": "[encoded data removed]",
            "text/plain": [
              "<Figure size 324x216 with 1 Axes>"
            ]
          },
          "metadata": {
            "needs_background": "light"
          }
        }
      ]
    },
    {
      "cell_type": "markdown",
      "metadata": {
        "id": "ry3_8ZHWXN80"
      },
      "source": [
        "- It can be observed that traffic is highr in the month of march to october due to hot season with the exception of decrease in July it may be due to some repair work going on\n",
        "\n",
        "- From November to February there is a decrease in traffic because of cold season when people less like to go out."
      ]
    },
    {
      "cell_type": "markdown",
      "metadata": {
        "id": "VO1oq4H4Zzy1"
      },
      "source": [
        "### ***Traffic Weekdays***"
      ]
    },
    {
      "cell_type": "code",
      "metadata": {
        "colab": {
          "base_uri": "https://localhost:8080/"
        },
        "id": "1g2E_zFeY5x5",
        "outputId": "e9d7d78c-75b8-4ad5-d912-e60f98b0bfbb"
      },
      "source": [
        "day[\"week\"] = day[\"date_time\"].dt.dayofweek\n",
        "week = day.groupby(\"week\").mean()\n",
        "week[\"traffic_volume\"] # 0 is monday and 6 is sunday"
      ],
      "execution_count": null,
      "outputs": [
        {
          "output_type": "execute_result",
          "data": {
            "text/plain": [
              "week\n",
              "0    4893.551286\n",
              "1    5189.004782\n",
              "2    5284.454282\n",
              "3    5311.303730\n",
              "4    5291.600829\n",
              "5    3927.249558\n",
              "6    3436.541789\n",
              "Name: traffic_volume, dtype: float64"
            ]
          },
          "metadata": {},
          "execution_count": 37
        }
      ]
    },
    {
      "cell_type": "code",
      "metadata": {
        "colab": {
          "base_uri": "https://localhost:8080/",
          "height": 295
        },
        "id": "aUra1pucgS75",
        "outputId": "bafebb25-1cd0-4b19-a767-43b6f4b4da74"
      },
      "source": [
        "week[\"traffic_volume\"].plot.line()\n",
        "plt.xlabel(\"Week\")\n",
        "plt.ylabel(\"Frequency\")\n",
        "plt.title(\"Average traffic per week\", weight=\"bold\")\n",
        "plt.show()"
      ],
      "execution_count": null,
      "outputs": [
        {
          "output_type": "display_data",
          "data": {
            "image/png": "[encoded data removed]",
            "text/plain": [
              "<Figure size 432x288 with 1 Axes>"
            ]
          },
          "metadata": {
            "needs_background": "light"
          }
        }
      ]
    },
    {
      "cell_type": "markdown",
      "metadata": {
        "id": "azzW7snrgoMo"
      },
      "source": [
        "We can heavy traffic volume by weekdays (Monday to Friday) which is due to high activity of people.\n",
        "\n",
        "The traffic volume is low on saturday and sunday."
      ]
    },
    {
      "cell_type": "markdown",
      "metadata": {
        "id": "jGWCuu47hI-8"
      },
      "source": [
        "### ***Traffic Hours***"
      ]
    },
    {
      "cell_type": "code",
      "metadata": {
        "colab": {
          "base_uri": "https://localhost:8080/",
          "height": 241
        },
        "id": "UYRNiYpThUBz",
        "outputId": "d0ff8d42-30e6-4c66-edfe-f115a4aa4a76"
      },
      "source": [
        "day[\"hour\"] = day[\"date_time\"].dt.hour\n",
        "work_days = day.copy()[day[\"week\"]<=4]\n",
        "holidays = day.copy()[day[\"week\"]>4]\n",
        "hour_work_days = work_days.groupby(\"hour\").mean()\n",
        "hour_holidays = holidays.groupby(\"hour\").mean()\n",
        "\n",
        "plt.figure(figsize=(10,3))\n",
        "\n",
        "plt.subplot(1,2,1)\n",
        "hour_work_days[\"traffic_volume\"].plot.line()\n",
        "plt.xlim(7,18)\n",
        "plt.ylim(1500,7000)\n",
        "plt.xlabel(\"Working Days Hours\")\n",
        "plt.ylabel(\"Frequency\")\n",
        "plt.title(\"Hourly average traffic on Workdays\",weight=\"bold\")\n",
        "\n",
        "\n",
        "plt.subplot(1,2,2)\n",
        "hour_holidays[\"traffic_volume\"].plot.line()\n",
        "plt.xlim(7,18)\n",
        "plt.xlabel(\"Holidays Hours\")\n",
        "plt.ylim(1500,7000)\n",
        "plt.title(\"Hourly average traffic on Holidays\",weight=\"bold\")\n",
        "plt.show()"
      ],
      "execution_count": null,
      "outputs": [
        {
          "output_type": "display_data",
          "data": {
            "image/png": "[encoded data removed]",
            "text/plain": [
              "<Figure size 720x216 with 2 Axes>"
            ]
          },
          "metadata": {
            "needs_background": "light"
          }
        }
      ]
    },
    {
      "cell_type": "markdown",
      "metadata": {
        "id": "Y2WWaS0LttUD"
      },
      "source": [
        "It can clearly notice that there is a big gap between the average traffic on workdays vs holidays taffic is more on weekdays because of professional and personal work.\n",
        "More on workdays there is a continous increase in the traffic after approx. 9:30 and it reaches to the peak nearly 16:00 and then again start falling. At rush hours(16:00) the vechile volume of over 6,000 on the highway.\n",
        "\n",
        "\n",
        "**Summarization on the basic of diffrent time frame:**\n",
        "- The traffic is abundant during warm months which are March-October comparison to colder months from november to ferburay\n",
        "- For the weekdays traffic is higher while on weekends it is low\n",
        "- And on a single given day of work there is a very hihg traffic volume at the rush hours it reaches to 6,000 veichles, While on weekends traffic is low as compared to weekdays but even on the rush hours these days there are 4,000 veichles.\n"
      ]
    },
    {
      "cell_type": "markdown",
      "metadata": {
        "id": "Umt-WYLfxfYR"
      },
      "source": [
        "## **How diffrent Weather affect traffic?**\n",
        "\n",
        "Weather can also be a reason for heavy traffic. These table provide various columns which may be helpful to determine the traffic- temp, rain_1h, snow_1h, clouds_all.\n",
        "\n"
      ]
    },
    {
      "cell_type": "code",
      "metadata": {
        "colab": {
          "base_uri": "https://localhost:8080/"
        },
        "id": "UdUcvJ9ezHmL",
        "outputId": "cc22d138-26ba-43db-ae71-7f79c0f4d4d4"
      },
      "source": [
        "day.corr()[\"traffic_volume\"]"
      ],
      "execution_count": null,
      "outputs": [
        {
          "output_type": "execute_result",
          "data": {
            "text/plain": [
              "temp              0.128317\n",
              "rain_1h           0.003697\n",
              "snow_1h           0.001265\n",
              "clouds_all       -0.032932\n",
              "traffic_volume    1.000000\n",
              "month            -0.022337\n",
              "week             -0.416453\n",
              "hour              0.172704\n",
              "Name: traffic_volume, dtype: float64"
            ]
          },
          "metadata": {},
          "execution_count": 40
        }
      ]
    },
    {
      "cell_type": "code",
      "metadata": {
        "colab": {
          "base_uri": "https://localhost:8080/",
          "height": 280
        },
        "id": "Z5ZEoQgSz12Z",
        "outputId": "3119b22a-e87e-42c9-d84d-a05e1603689c"
      },
      "source": [
        "# This is noticebale that only temperature is strongly corelated to traffic volume (~0.13) while other column not so much.\n",
        "day.plot.scatter(\"traffic_volume\",\"temp\")\n",
        "plt.ylim(230,330)\n",
        "plt.show()"
      ],
      "execution_count": null,
      "outputs": [
        {
          "output_type": "display_data",
          "data": {
            "image/png": "[encoded data removed]",
            "text/plain": [
              "<Figure size 432x288 with 1 Axes>"
            ]
          },
          "metadata": {
            "needs_background": "light"
          }
        }
      ]
    },
    {
      "cell_type": "markdown",
      "metadata": {
        "id": "KZaTfHHM4O_N"
      },
      "source": [
        "It can conclude that temperature dosen't look like a solid indicator"
      ]
    },
    {
      "cell_type": "markdown",
      "metadata": {
        "id": "ON-f9fSz4V9E"
      },
      "source": [
        "### ***Weather Types***\n",
        "Group the data by weather_main and traffic_volume averages"
      ]
    },
    {
      "cell_type": "code",
      "metadata": {
        "colab": {
          "base_uri": "https://localhost:8080/",
          "height": 279
        },
        "id": "p5t2unyq34YR",
        "outputId": "59b6df77-99ab-47be-b079-c532bbb24c74"
      },
      "source": [
        "weather_main = day.groupby(\"weather_main\").mean()\n",
        "weather_main[\"traffic_volume\"].plot.barh()\n",
        "plt.ylabel(\"Weather\")\n",
        "plt.xlabel(\"Average traffic\")\n",
        "plt.show()"
      ],
      "execution_count": null,
      "outputs": [
        {
          "output_type": "display_data",
          "data": {
            "image/png": "[encoded data removed]",
            "text/plain": [
              "<Figure size 432x288 with 1 Axes>"
            ]
          },
          "metadata": {
            "needs_background": "light"
          }
        }
      ]
    },
    {
      "cell_type": "code",
      "metadata": {
        "colab": {
          "base_uri": "https://localhost:8080/",
          "height": 714
        },
        "id": "PdQEu5S85vpA",
        "outputId": "d469a901-a78e-47ca-8c27-80feda8c4cd3"
      },
      "source": [
        "weather_description = day.groupby(\"weather_description\").mean()\n",
        "weather_description[\"traffic_volume\"].plot.barh(figsize=(6,12))\n",
        "plt.ylabel(\"Weather\")\n",
        "plt.xlabel(\"Average Traffic\")\n",
        "plt.show()"
      ],
      "execution_count": null,
      "outputs": [
        {
          "output_type": "display_data",
          "data": {
            "image/png": "[encoded data removed]",
            "text/plain": [
              "<Figure size 432x864 with 1 Axes>"
            ]
          },
          "metadata": {
            "needs_background": "light"
          }
        }
      ]
    },
    {
      "cell_type": "markdown",
      "metadata": {
        "id": "x77Gd_dI64BU"
      },
      "source": [
        "It looks there are various weather conditions traffic volume exceeds 5000 veichles are **shower snow, proximity thunderstrom with drizzle, light rain and snow**."
      ]
    },
    {
      "cell_type": "markdown",
      "metadata": {
        "id": "EX1TRFDx_Y8r"
      },
      "source": [
        "# ***Conclusion***\n",
        "\n",
        "In this project after analyzing I-94 highway traffic data impected by various indicators: Traffic and weather indicator\n",
        "\n",
        "- Time indicator- Months, days, and hours\n",
        "- weather indicator- Shower snow, Proximity thunderstrom with drizzle, Light rain and snow"
      ]
    }
  ]
}