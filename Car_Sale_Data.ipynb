{
  "nbformat": 4,
  "nbformat_minor": 0,
  "metadata": {
    "kernelspec": {
      "display_name": "Python 3",
      "language": "python",
      "name": "python3"
    },
    "language_info": {
      "codemirror_mode": {
        "name": "ipython",
        "version": 3
      },
      "file_extension": ".py",
      "mimetype": "text/x-python",
      "name": "python",
      "nbconvert_exporter": "python",
      "pygments_lexer": "ipython3",
      "version": "3.8.2"
    },
    "colab": {
      "name": "Car_Sale_Data.ipynb",
      "provenance": [],
      "include_colab_link": true
    }
  },
  "cells": [
    {
      "cell_type": "markdown",
      "metadata": {
        "id": "view-in-github",
        "colab_type": "text"
      },
      "source": [
        "<a href=\"https://colab.research.google.com/github/dhruvbhatnagar9548/DS_and_ML_projects/blob/main/Car_Sale_Data.ipynb\" target=\"_parent\"><img src=\"https://colab.research.google.com/assets/colab-badge.svg\" alt=\"Open In Colab\"/></a>"
      ]
    },
    {
      "cell_type": "markdown",
      "metadata": {
        "id": "qSr9I6wh7pte"
      },
      "source": [
        "\n",
        "# Exploring e-bay sales of car data\n",
        "We will be working on a dataset of used cars from eBay Kleinanzeigen, a classifieds section of the German eBay website.\n",
        "\n",
        "The dataset was originally scraped and uploaded to Kaggle. The version of the dataset we are working with is a sample of 50,000 data points that was prepared by Dataquest including simulating a less-cleaned version of the data.\n",
        "\n",
        "The data dictionary provided with data is as follows:\n",
        "\n",
        "- dateCrawled - When this ad was first crawled. All field-values are taken from this date.\n",
        "- name - Name of the car.\n",
        "- seller - Whether the seller is private or a dealer.\n",
        "- offerType - The type of listing\n",
        "- price - The price on the ad to sell the car.\n",
        "- abtest - Whether the listing is included in an A/B test.\n",
        "- vehicleType - The vehicle Type.\n",
        "- yearOfRegistration - The year in which which year the car was first registered.\n",
        "- gearbox - The transmission type.\n",
        "- powerPS - The power of the car in PS.\n",
        "- model - The car model name.\n",
        "- kilometer - How many kilometers the car has driven.\n",
        "- monthOfRegistration - The month in which which year the car was first registered.\n",
        "- fuelType - What type of fuel the car uses.\n",
        "- brand - The brand of the car.\n",
        "- notRepairedDamage - If the car has a damage which is not yet repaired.\n",
        "- dateCreated - The date on which the eBay listing was created.\n",
        "- nrOfPictures - The number of pictures in the ad.\n",
        "- postalCode - The postal code for the location of the vehicle.\n",
        "- lastSeenOnline - When the crawler saw this ad last online.\n",
        "\n",
        "The aim of this project is to clean the data and analyze the included used car listings."
      ]
    },
    {
      "cell_type": "code",
      "metadata": {
        "id": "UQPKli1p7ptj"
      },
      "source": [
        "import numpy as np\n",
        "import pandas as pd\n",
        "autos = pd.read_csv(\"autos.csv\", encoding = \"Latin-1\")"
      ],
      "execution_count": null,
      "outputs": []
    },
    {
      "cell_type": "code",
      "metadata": {
        "id": "r7dXhKAb7ptk",
        "outputId": "cacd8bca-b198-4bc4-91e6-ed3304122b6d"
      },
      "source": [
        "autos.info()"
      ],
      "execution_count": null,
      "outputs": [
        {
          "name": "stdout",
          "output_type": "stream",
          "text": [
            "<class 'pandas.core.frame.DataFrame'>\n",
            "RangeIndex: 50000 entries, 0 to 49999\n",
            "Data columns (total 20 columns):\n",
            " #   Column               Non-Null Count  Dtype \n",
            "---  ------               --------------  ----- \n",
            " 0   dateCrawled          50000 non-null  object\n",
            " 1   name                 50000 non-null  object\n",
            " 2   seller               50000 non-null  object\n",
            " 3   offerType            50000 non-null  object\n",
            " 4   price                50000 non-null  object\n",
            " 5   abtest               50000 non-null  object\n",
            " 6   vehicleType          44905 non-null  object\n",
            " 7   yearOfRegistration   50000 non-null  int64 \n",
            " 8   gearbox              47320 non-null  object\n",
            " 9   powerPS              50000 non-null  int64 \n",
            " 10  model                47242 non-null  object\n",
            " 11  odometer             50000 non-null  object\n",
            " 12  monthOfRegistration  50000 non-null  int64 \n",
            " 13  fuelType             45518 non-null  object\n",
            " 14  brand                50000 non-null  object\n",
            " 15  notRepairedDamage    40171 non-null  object\n",
            " 16  dateCreated          50000 non-null  object\n",
            " 17  nrOfPictures         50000 non-null  int64 \n",
            " 18  postalCode           50000 non-null  int64 \n",
            " 19  lastSeen             50000 non-null  object\n",
            "dtypes: int64(5), object(15)\n",
            "memory usage: 7.6+ MB\n"
          ]
        }
      ]
    },
    {
      "cell_type": "code",
      "metadata": {
        "id": "DXLr23d97ptm",
        "outputId": "b0d83aa1-c8e8-48dc-afcd-b3e45e0a41ea"
      },
      "source": [
        "autos.head()"
      ],
      "execution_count": null,
      "outputs": [
        {
          "data": {
            "text/html": [
              "<div>\n",
              "<style scoped>\n",
              "    .dataframe tbody tr th:only-of-type {\n",
              "        vertical-align: middle;\n",
              "    }\n",
              "\n",
              "    .dataframe tbody tr th {\n",
              "        vertical-align: top;\n",
              "    }\n",
              "\n",
              "    .dataframe thead th {\n",
              "        text-align: right;\n",
              "    }\n",
              "</style>\n",
              "<table border=\"1\" class=\"dataframe\">\n",
              "  <thead>\n",
              "    <tr style=\"text-align: right;\">\n",
              "      <th></th>\n",
              "      <th>dateCrawled</th>\n",
              "      <th>name</th>\n",
              "      <th>seller</th>\n",
              "      <th>offerType</th>\n",
              "      <th>price</th>\n",
              "      <th>abtest</th>\n",
              "      <th>vehicleType</th>\n",
              "      <th>yearOfRegistration</th>\n",
              "      <th>gearbox</th>\n",
              "      <th>powerPS</th>\n",
              "      <th>model</th>\n",
              "      <th>odometer</th>\n",
              "      <th>monthOfRegistration</th>\n",
              "      <th>fuelType</th>\n",
              "      <th>brand</th>\n",
              "      <th>notRepairedDamage</th>\n",
              "      <th>dateCreated</th>\n",
              "      <th>nrOfPictures</th>\n",
              "      <th>postalCode</th>\n",
              "      <th>lastSeen</th>\n",
              "    </tr>\n",
              "  </thead>\n",
              "  <tbody>\n",
              "    <tr>\n",
              "      <th>0</th>\n",
              "      <td>2016-03-26 17:47:46</td>\n",
              "      <td>Peugeot_807_160_NAVTECH_ON_BOARD</td>\n",
              "      <td>privat</td>\n",
              "      <td>Angebot</td>\n",
              "      <td>$5,000</td>\n",
              "      <td>control</td>\n",
              "      <td>bus</td>\n",
              "      <td>2004</td>\n",
              "      <td>manuell</td>\n",
              "      <td>158</td>\n",
              "      <td>andere</td>\n",
              "      <td>150,000km</td>\n",
              "      <td>3</td>\n",
              "      <td>lpg</td>\n",
              "      <td>peugeot</td>\n",
              "      <td>nein</td>\n",
              "      <td>2016-03-26 00:00:00</td>\n",
              "      <td>0</td>\n",
              "      <td>79588</td>\n",
              "      <td>2016-04-06 06:45:54</td>\n",
              "    </tr>\n",
              "    <tr>\n",
              "      <th>1</th>\n",
              "      <td>2016-04-04 13:38:56</td>\n",
              "      <td>BMW_740i_4_4_Liter_HAMANN_UMBAU_Mega_Optik</td>\n",
              "      <td>privat</td>\n",
              "      <td>Angebot</td>\n",
              "      <td>$8,500</td>\n",
              "      <td>control</td>\n",
              "      <td>limousine</td>\n",
              "      <td>1997</td>\n",
              "      <td>automatik</td>\n",
              "      <td>286</td>\n",
              "      <td>7er</td>\n",
              "      <td>150,000km</td>\n",
              "      <td>6</td>\n",
              "      <td>benzin</td>\n",
              "      <td>bmw</td>\n",
              "      <td>nein</td>\n",
              "      <td>2016-04-04 00:00:00</td>\n",
              "      <td>0</td>\n",
              "      <td>71034</td>\n",
              "      <td>2016-04-06 14:45:08</td>\n",
              "    </tr>\n",
              "    <tr>\n",
              "      <th>2</th>\n",
              "      <td>2016-03-26 18:57:24</td>\n",
              "      <td>Volkswagen_Golf_1.6_United</td>\n",
              "      <td>privat</td>\n",
              "      <td>Angebot</td>\n",
              "      <td>$8,990</td>\n",
              "      <td>test</td>\n",
              "      <td>limousine</td>\n",
              "      <td>2009</td>\n",
              "      <td>manuell</td>\n",
              "      <td>102</td>\n",
              "      <td>golf</td>\n",
              "      <td>70,000km</td>\n",
              "      <td>7</td>\n",
              "      <td>benzin</td>\n",
              "      <td>volkswagen</td>\n",
              "      <td>nein</td>\n",
              "      <td>2016-03-26 00:00:00</td>\n",
              "      <td>0</td>\n",
              "      <td>35394</td>\n",
              "      <td>2016-04-06 20:15:37</td>\n",
              "    </tr>\n",
              "    <tr>\n",
              "      <th>3</th>\n",
              "      <td>2016-03-12 16:58:10</td>\n",
              "      <td>Smart_smart_fortwo_coupe_softouch/F1/Klima/Pan...</td>\n",
              "      <td>privat</td>\n",
              "      <td>Angebot</td>\n",
              "      <td>$4,350</td>\n",
              "      <td>control</td>\n",
              "      <td>kleinwagen</td>\n",
              "      <td>2007</td>\n",
              "      <td>automatik</td>\n",
              "      <td>71</td>\n",
              "      <td>fortwo</td>\n",
              "      <td>70,000km</td>\n",
              "      <td>6</td>\n",
              "      <td>benzin</td>\n",
              "      <td>smart</td>\n",
              "      <td>nein</td>\n",
              "      <td>2016-03-12 00:00:00</td>\n",
              "      <td>0</td>\n",
              "      <td>33729</td>\n",
              "      <td>2016-03-15 03:16:28</td>\n",
              "    </tr>\n",
              "    <tr>\n",
              "      <th>4</th>\n",
              "      <td>2016-04-01 14:38:50</td>\n",
              "      <td>Ford_Focus_1_6_Benzin_TÜV_neu_ist_sehr_gepfleg...</td>\n",
              "      <td>privat</td>\n",
              "      <td>Angebot</td>\n",
              "      <td>$1,350</td>\n",
              "      <td>test</td>\n",
              "      <td>kombi</td>\n",
              "      <td>2003</td>\n",
              "      <td>manuell</td>\n",
              "      <td>0</td>\n",
              "      <td>focus</td>\n",
              "      <td>150,000km</td>\n",
              "      <td>7</td>\n",
              "      <td>benzin</td>\n",
              "      <td>ford</td>\n",
              "      <td>nein</td>\n",
              "      <td>2016-04-01 00:00:00</td>\n",
              "      <td>0</td>\n",
              "      <td>39218</td>\n",
              "      <td>2016-04-01 14:38:50</td>\n",
              "    </tr>\n",
              "  </tbody>\n",
              "</table>\n",
              "</div>"
            ],
            "text/plain": [
              "           dateCrawled                                               name  \\\n",
              "0  2016-03-26 17:47:46                   Peugeot_807_160_NAVTECH_ON_BOARD   \n",
              "1  2016-04-04 13:38:56         BMW_740i_4_4_Liter_HAMANN_UMBAU_Mega_Optik   \n",
              "2  2016-03-26 18:57:24                         Volkswagen_Golf_1.6_United   \n",
              "3  2016-03-12 16:58:10  Smart_smart_fortwo_coupe_softouch/F1/Klima/Pan...   \n",
              "4  2016-04-01 14:38:50  Ford_Focus_1_6_Benzin_TÜV_neu_ist_sehr_gepfleg...   \n",
              "\n",
              "   seller offerType   price   abtest vehicleType  yearOfRegistration  \\\n",
              "0  privat   Angebot  $5,000  control         bus                2004   \n",
              "1  privat   Angebot  $8,500  control   limousine                1997   \n",
              "2  privat   Angebot  $8,990     test   limousine                2009   \n",
              "3  privat   Angebot  $4,350  control  kleinwagen                2007   \n",
              "4  privat   Angebot  $1,350     test       kombi                2003   \n",
              "\n",
              "     gearbox  powerPS   model   odometer  monthOfRegistration fuelType  \\\n",
              "0    manuell      158  andere  150,000km                    3      lpg   \n",
              "1  automatik      286     7er  150,000km                    6   benzin   \n",
              "2    manuell      102    golf   70,000km                    7   benzin   \n",
              "3  automatik       71  fortwo   70,000km                    6   benzin   \n",
              "4    manuell        0   focus  150,000km                    7   benzin   \n",
              "\n",
              "        brand notRepairedDamage          dateCreated  nrOfPictures  \\\n",
              "0     peugeot              nein  2016-03-26 00:00:00             0   \n",
              "1         bmw              nein  2016-04-04 00:00:00             0   \n",
              "2  volkswagen              nein  2016-03-26 00:00:00             0   \n",
              "3       smart              nein  2016-03-12 00:00:00             0   \n",
              "4        ford              nein  2016-04-01 00:00:00             0   \n",
              "\n",
              "   postalCode             lastSeen  \n",
              "0       79588  2016-04-06 06:45:54  \n",
              "1       71034  2016-04-06 14:45:08  \n",
              "2       35394  2016-04-06 20:15:37  \n",
              "3       33729  2016-03-15 03:16:28  \n",
              "4       39218  2016-04-01 14:38:50  "
            ]
          },
          "execution_count": 155,
          "metadata": {},
          "output_type": "execute_result"
        }
      ]
    },
    {
      "cell_type": "code",
      "metadata": {
        "id": "DDmwKD2Q7pto",
        "outputId": "1af6c951-a085-437a-fadf-6bd7e35a5ecb"
      },
      "source": [
        "autos.describe()"
      ],
      "execution_count": null,
      "outputs": [
        {
          "data": {
            "text/html": [
              "<div>\n",
              "<style scoped>\n",
              "    .dataframe tbody tr th:only-of-type {\n",
              "        vertical-align: middle;\n",
              "    }\n",
              "\n",
              "    .dataframe tbody tr th {\n",
              "        vertical-align: top;\n",
              "    }\n",
              "\n",
              "    .dataframe thead th {\n",
              "        text-align: right;\n",
              "    }\n",
              "</style>\n",
              "<table border=\"1\" class=\"dataframe\">\n",
              "  <thead>\n",
              "    <tr style=\"text-align: right;\">\n",
              "      <th></th>\n",
              "      <th>yearOfRegistration</th>\n",
              "      <th>powerPS</th>\n",
              "      <th>monthOfRegistration</th>\n",
              "      <th>nrOfPictures</th>\n",
              "      <th>postalCode</th>\n",
              "    </tr>\n",
              "  </thead>\n",
              "  <tbody>\n",
              "    <tr>\n",
              "      <th>count</th>\n",
              "      <td>50000.000000</td>\n",
              "      <td>50000.000000</td>\n",
              "      <td>50000.000000</td>\n",
              "      <td>50000.0</td>\n",
              "      <td>50000.000000</td>\n",
              "    </tr>\n",
              "    <tr>\n",
              "      <th>mean</th>\n",
              "      <td>2005.073280</td>\n",
              "      <td>116.355920</td>\n",
              "      <td>5.723360</td>\n",
              "      <td>0.0</td>\n",
              "      <td>50813.627300</td>\n",
              "    </tr>\n",
              "    <tr>\n",
              "      <th>std</th>\n",
              "      <td>105.712813</td>\n",
              "      <td>209.216627</td>\n",
              "      <td>3.711984</td>\n",
              "      <td>0.0</td>\n",
              "      <td>25779.747957</td>\n",
              "    </tr>\n",
              "    <tr>\n",
              "      <th>min</th>\n",
              "      <td>1000.000000</td>\n",
              "      <td>0.000000</td>\n",
              "      <td>0.000000</td>\n",
              "      <td>0.0</td>\n",
              "      <td>1067.000000</td>\n",
              "    </tr>\n",
              "    <tr>\n",
              "      <th>25%</th>\n",
              "      <td>1999.000000</td>\n",
              "      <td>70.000000</td>\n",
              "      <td>3.000000</td>\n",
              "      <td>0.0</td>\n",
              "      <td>30451.000000</td>\n",
              "    </tr>\n",
              "    <tr>\n",
              "      <th>50%</th>\n",
              "      <td>2003.000000</td>\n",
              "      <td>105.000000</td>\n",
              "      <td>6.000000</td>\n",
              "      <td>0.0</td>\n",
              "      <td>49577.000000</td>\n",
              "    </tr>\n",
              "    <tr>\n",
              "      <th>75%</th>\n",
              "      <td>2008.000000</td>\n",
              "      <td>150.000000</td>\n",
              "      <td>9.000000</td>\n",
              "      <td>0.0</td>\n",
              "      <td>71540.000000</td>\n",
              "    </tr>\n",
              "    <tr>\n",
              "      <th>max</th>\n",
              "      <td>9999.000000</td>\n",
              "      <td>17700.000000</td>\n",
              "      <td>12.000000</td>\n",
              "      <td>0.0</td>\n",
              "      <td>99998.000000</td>\n",
              "    </tr>\n",
              "  </tbody>\n",
              "</table>\n",
              "</div>"
            ],
            "text/plain": [
              "       yearOfRegistration       powerPS  monthOfRegistration  nrOfPictures  \\\n",
              "count        50000.000000  50000.000000         50000.000000       50000.0   \n",
              "mean          2005.073280    116.355920             5.723360           0.0   \n",
              "std            105.712813    209.216627             3.711984           0.0   \n",
              "min           1000.000000      0.000000             0.000000           0.0   \n",
              "25%           1999.000000     70.000000             3.000000           0.0   \n",
              "50%           2003.000000    105.000000             6.000000           0.0   \n",
              "75%           2008.000000    150.000000             9.000000           0.0   \n",
              "max           9999.000000  17700.000000            12.000000           0.0   \n",
              "\n",
              "         postalCode  \n",
              "count  50000.000000  \n",
              "mean   50813.627300  \n",
              "std    25779.747957  \n",
              "min     1067.000000  \n",
              "25%    30451.000000  \n",
              "50%    49577.000000  \n",
              "75%    71540.000000  \n",
              "max    99998.000000  "
            ]
          },
          "execution_count": 156,
          "metadata": {},
          "output_type": "execute_result"
        }
      ]
    },
    {
      "cell_type": "code",
      "metadata": {
        "id": "6ze4xSdz7pto",
        "outputId": "8540cd42-eaec-45c7-9f08-a66542c3702e"
      },
      "source": [
        "# Clean Columns\n",
        "autos.columns"
      ],
      "execution_count": null,
      "outputs": [
        {
          "data": {
            "text/plain": [
              "Index(['dateCrawled', 'name', 'seller', 'offerType', 'price', 'abtest',\n",
              "       'vehicleType', 'yearOfRegistration', 'gearbox', 'powerPS', 'model',\n",
              "       'odometer', 'monthOfRegistration', 'fuelType', 'brand',\n",
              "       'notRepairedDamage', 'dateCreated', 'nrOfPictures', 'postalCode',\n",
              "       'lastSeen'],\n",
              "      dtype='object')"
            ]
          },
          "execution_count": 157,
          "metadata": {},
          "output_type": "execute_result"
        }
      ]
    },
    {
      "cell_type": "code",
      "metadata": {
        "id": "uVy72UI77ptp"
      },
      "source": [
        "#changing some columns names from real datset to make our understanding better towards the column\n",
        "#Also, changing the columns from camelcase to snakecase\n",
        "\n",
        "autos.columns = ['date_crawled', 'name', 'seller', 'offer_type', 'price', 'ab_test',\n",
        "       'vehicle_type', 'registration_year', 'gear_box', 'power_ps', 'model',\n",
        "       'odometer', 'registration_month', 'fuel_type', 'brand',\n",
        "       'unrepaired_damage', 'ad_created', 'num_photos', 'postal_code',\n",
        "       'last_seen']"
      ],
      "execution_count": null,
      "outputs": []
    },
    {
      "cell_type": "code",
      "metadata": {
        "id": "Ri23p0D47pts",
        "outputId": "d9bcf7f4-6dd8-44b1-93e9-f588a5cf3e1c"
      },
      "source": [
        "# exploring the data\n",
        "autos.describe(include = \"all\")"
      ],
      "execution_count": null,
      "outputs": [
        {
          "data": {
            "text/html": [
              "<div>\n",
              "<style scoped>\n",
              "    .dataframe tbody tr th:only-of-type {\n",
              "        vertical-align: middle;\n",
              "    }\n",
              "\n",
              "    .dataframe tbody tr th {\n",
              "        vertical-align: top;\n",
              "    }\n",
              "\n",
              "    .dataframe thead th {\n",
              "        text-align: right;\n",
              "    }\n",
              "</style>\n",
              "<table border=\"1\" class=\"dataframe\">\n",
              "  <thead>\n",
              "    <tr style=\"text-align: right;\">\n",
              "      <th></th>\n",
              "      <th>date_crawled</th>\n",
              "      <th>name</th>\n",
              "      <th>seller</th>\n",
              "      <th>offer_type</th>\n",
              "      <th>price</th>\n",
              "      <th>ab_test</th>\n",
              "      <th>vehicle_type</th>\n",
              "      <th>registration_year</th>\n",
              "      <th>gear_box</th>\n",
              "      <th>power_ps</th>\n",
              "      <th>model</th>\n",
              "      <th>odometer</th>\n",
              "      <th>registration_month</th>\n",
              "      <th>fuel_type</th>\n",
              "      <th>brand</th>\n",
              "      <th>unrepaired_damage</th>\n",
              "      <th>ad_created</th>\n",
              "      <th>num_photos</th>\n",
              "      <th>postal_code</th>\n",
              "      <th>last_seen</th>\n",
              "    </tr>\n",
              "  </thead>\n",
              "  <tbody>\n",
              "    <tr>\n",
              "      <th>count</th>\n",
              "      <td>50000</td>\n",
              "      <td>50000</td>\n",
              "      <td>50000</td>\n",
              "      <td>50000</td>\n",
              "      <td>50000</td>\n",
              "      <td>50000</td>\n",
              "      <td>44905</td>\n",
              "      <td>50000.000000</td>\n",
              "      <td>47320</td>\n",
              "      <td>50000.000000</td>\n",
              "      <td>47242</td>\n",
              "      <td>50000</td>\n",
              "      <td>50000.000000</td>\n",
              "      <td>45518</td>\n",
              "      <td>50000</td>\n",
              "      <td>40171</td>\n",
              "      <td>50000</td>\n",
              "      <td>50000.0</td>\n",
              "      <td>50000.000000</td>\n",
              "      <td>50000</td>\n",
              "    </tr>\n",
              "    <tr>\n",
              "      <th>unique</th>\n",
              "      <td>48213</td>\n",
              "      <td>38754</td>\n",
              "      <td>2</td>\n",
              "      <td>2</td>\n",
              "      <td>2357</td>\n",
              "      <td>2</td>\n",
              "      <td>8</td>\n",
              "      <td>NaN</td>\n",
              "      <td>2</td>\n",
              "      <td>NaN</td>\n",
              "      <td>245</td>\n",
              "      <td>13</td>\n",
              "      <td>NaN</td>\n",
              "      <td>7</td>\n",
              "      <td>40</td>\n",
              "      <td>2</td>\n",
              "      <td>76</td>\n",
              "      <td>NaN</td>\n",
              "      <td>NaN</td>\n",
              "      <td>39481</td>\n",
              "    </tr>\n",
              "    <tr>\n",
              "      <th>top</th>\n",
              "      <td>2016-03-21 20:37:19</td>\n",
              "      <td>Ford_Fiesta</td>\n",
              "      <td>privat</td>\n",
              "      <td>Angebot</td>\n",
              "      <td>$0</td>\n",
              "      <td>test</td>\n",
              "      <td>limousine</td>\n",
              "      <td>NaN</td>\n",
              "      <td>manuell</td>\n",
              "      <td>NaN</td>\n",
              "      <td>golf</td>\n",
              "      <td>150,000km</td>\n",
              "      <td>NaN</td>\n",
              "      <td>benzin</td>\n",
              "      <td>volkswagen</td>\n",
              "      <td>nein</td>\n",
              "      <td>2016-04-03 00:00:00</td>\n",
              "      <td>NaN</td>\n",
              "      <td>NaN</td>\n",
              "      <td>2016-04-07 06:17:27</td>\n",
              "    </tr>\n",
              "    <tr>\n",
              "      <th>freq</th>\n",
              "      <td>3</td>\n",
              "      <td>78</td>\n",
              "      <td>49999</td>\n",
              "      <td>49999</td>\n",
              "      <td>1421</td>\n",
              "      <td>25756</td>\n",
              "      <td>12859</td>\n",
              "      <td>NaN</td>\n",
              "      <td>36993</td>\n",
              "      <td>NaN</td>\n",
              "      <td>4024</td>\n",
              "      <td>32424</td>\n",
              "      <td>NaN</td>\n",
              "      <td>30107</td>\n",
              "      <td>10687</td>\n",
              "      <td>35232</td>\n",
              "      <td>1946</td>\n",
              "      <td>NaN</td>\n",
              "      <td>NaN</td>\n",
              "      <td>8</td>\n",
              "    </tr>\n",
              "    <tr>\n",
              "      <th>mean</th>\n",
              "      <td>NaN</td>\n",
              "      <td>NaN</td>\n",
              "      <td>NaN</td>\n",
              "      <td>NaN</td>\n",
              "      <td>NaN</td>\n",
              "      <td>NaN</td>\n",
              "      <td>NaN</td>\n",
              "      <td>2005.073280</td>\n",
              "      <td>NaN</td>\n",
              "      <td>116.355920</td>\n",
              "      <td>NaN</td>\n",
              "      <td>NaN</td>\n",
              "      <td>5.723360</td>\n",
              "      <td>NaN</td>\n",
              "      <td>NaN</td>\n",
              "      <td>NaN</td>\n",
              "      <td>NaN</td>\n",
              "      <td>0.0</td>\n",
              "      <td>50813.627300</td>\n",
              "      <td>NaN</td>\n",
              "    </tr>\n",
              "    <tr>\n",
              "      <th>std</th>\n",
              "      <td>NaN</td>\n",
              "      <td>NaN</td>\n",
              "      <td>NaN</td>\n",
              "      <td>NaN</td>\n",
              "      <td>NaN</td>\n",
              "      <td>NaN</td>\n",
              "      <td>NaN</td>\n",
              "      <td>105.712813</td>\n",
              "      <td>NaN</td>\n",
              "      <td>209.216627</td>\n",
              "      <td>NaN</td>\n",
              "      <td>NaN</td>\n",
              "      <td>3.711984</td>\n",
              "      <td>NaN</td>\n",
              "      <td>NaN</td>\n",
              "      <td>NaN</td>\n",
              "      <td>NaN</td>\n",
              "      <td>0.0</td>\n",
              "      <td>25779.747957</td>\n",
              "      <td>NaN</td>\n",
              "    </tr>\n",
              "    <tr>\n",
              "      <th>min</th>\n",
              "      <td>NaN</td>\n",
              "      <td>NaN</td>\n",
              "      <td>NaN</td>\n",
              "      <td>NaN</td>\n",
              "      <td>NaN</td>\n",
              "      <td>NaN</td>\n",
              "      <td>NaN</td>\n",
              "      <td>1000.000000</td>\n",
              "      <td>NaN</td>\n",
              "      <td>0.000000</td>\n",
              "      <td>NaN</td>\n",
              "      <td>NaN</td>\n",
              "      <td>0.000000</td>\n",
              "      <td>NaN</td>\n",
              "      <td>NaN</td>\n",
              "      <td>NaN</td>\n",
              "      <td>NaN</td>\n",
              "      <td>0.0</td>\n",
              "      <td>1067.000000</td>\n",
              "      <td>NaN</td>\n",
              "    </tr>\n",
              "    <tr>\n",
              "      <th>25%</th>\n",
              "      <td>NaN</td>\n",
              "      <td>NaN</td>\n",
              "      <td>NaN</td>\n",
              "      <td>NaN</td>\n",
              "      <td>NaN</td>\n",
              "      <td>NaN</td>\n",
              "      <td>NaN</td>\n",
              "      <td>1999.000000</td>\n",
              "      <td>NaN</td>\n",
              "      <td>70.000000</td>\n",
              "      <td>NaN</td>\n",
              "      <td>NaN</td>\n",
              "      <td>3.000000</td>\n",
              "      <td>NaN</td>\n",
              "      <td>NaN</td>\n",
              "      <td>NaN</td>\n",
              "      <td>NaN</td>\n",
              "      <td>0.0</td>\n",
              "      <td>30451.000000</td>\n",
              "      <td>NaN</td>\n",
              "    </tr>\n",
              "    <tr>\n",
              "      <th>50%</th>\n",
              "      <td>NaN</td>\n",
              "      <td>NaN</td>\n",
              "      <td>NaN</td>\n",
              "      <td>NaN</td>\n",
              "      <td>NaN</td>\n",
              "      <td>NaN</td>\n",
              "      <td>NaN</td>\n",
              "      <td>2003.000000</td>\n",
              "      <td>NaN</td>\n",
              "      <td>105.000000</td>\n",
              "      <td>NaN</td>\n",
              "      <td>NaN</td>\n",
              "      <td>6.000000</td>\n",
              "      <td>NaN</td>\n",
              "      <td>NaN</td>\n",
              "      <td>NaN</td>\n",
              "      <td>NaN</td>\n",
              "      <td>0.0</td>\n",
              "      <td>49577.000000</td>\n",
              "      <td>NaN</td>\n",
              "    </tr>\n",
              "    <tr>\n",
              "      <th>75%</th>\n",
              "      <td>NaN</td>\n",
              "      <td>NaN</td>\n",
              "      <td>NaN</td>\n",
              "      <td>NaN</td>\n",
              "      <td>NaN</td>\n",
              "      <td>NaN</td>\n",
              "      <td>NaN</td>\n",
              "      <td>2008.000000</td>\n",
              "      <td>NaN</td>\n",
              "      <td>150.000000</td>\n",
              "      <td>NaN</td>\n",
              "      <td>NaN</td>\n",
              "      <td>9.000000</td>\n",
              "      <td>NaN</td>\n",
              "      <td>NaN</td>\n",
              "      <td>NaN</td>\n",
              "      <td>NaN</td>\n",
              "      <td>0.0</td>\n",
              "      <td>71540.000000</td>\n",
              "      <td>NaN</td>\n",
              "    </tr>\n",
              "    <tr>\n",
              "      <th>max</th>\n",
              "      <td>NaN</td>\n",
              "      <td>NaN</td>\n",
              "      <td>NaN</td>\n",
              "      <td>NaN</td>\n",
              "      <td>NaN</td>\n",
              "      <td>NaN</td>\n",
              "      <td>NaN</td>\n",
              "      <td>9999.000000</td>\n",
              "      <td>NaN</td>\n",
              "      <td>17700.000000</td>\n",
              "      <td>NaN</td>\n",
              "      <td>NaN</td>\n",
              "      <td>12.000000</td>\n",
              "      <td>NaN</td>\n",
              "      <td>NaN</td>\n",
              "      <td>NaN</td>\n",
              "      <td>NaN</td>\n",
              "      <td>0.0</td>\n",
              "      <td>99998.000000</td>\n",
              "      <td>NaN</td>\n",
              "    </tr>\n",
              "  </tbody>\n",
              "</table>\n",
              "</div>"
            ],
            "text/plain": [
              "               date_crawled         name  seller offer_type  price ab_test  \\\n",
              "count                 50000        50000   50000      50000  50000   50000   \n",
              "unique                48213        38754       2          2   2357       2   \n",
              "top     2016-03-21 20:37:19  Ford_Fiesta  privat    Angebot     $0    test   \n",
              "freq                      3           78   49999      49999   1421   25756   \n",
              "mean                    NaN          NaN     NaN        NaN    NaN     NaN   \n",
              "std                     NaN          NaN     NaN        NaN    NaN     NaN   \n",
              "min                     NaN          NaN     NaN        NaN    NaN     NaN   \n",
              "25%                     NaN          NaN     NaN        NaN    NaN     NaN   \n",
              "50%                     NaN          NaN     NaN        NaN    NaN     NaN   \n",
              "75%                     NaN          NaN     NaN        NaN    NaN     NaN   \n",
              "max                     NaN          NaN     NaN        NaN    NaN     NaN   \n",
              "\n",
              "       vehicle_type  registration_year gear_box      power_ps  model  \\\n",
              "count         44905       50000.000000    47320  50000.000000  47242   \n",
              "unique            8                NaN        2           NaN    245   \n",
              "top       limousine                NaN  manuell           NaN   golf   \n",
              "freq          12859                NaN    36993           NaN   4024   \n",
              "mean            NaN        2005.073280      NaN    116.355920    NaN   \n",
              "std             NaN         105.712813      NaN    209.216627    NaN   \n",
              "min             NaN        1000.000000      NaN      0.000000    NaN   \n",
              "25%             NaN        1999.000000      NaN     70.000000    NaN   \n",
              "50%             NaN        2003.000000      NaN    105.000000    NaN   \n",
              "75%             NaN        2008.000000      NaN    150.000000    NaN   \n",
              "max             NaN        9999.000000      NaN  17700.000000    NaN   \n",
              "\n",
              "         odometer  registration_month fuel_type       brand unrepaired_damage  \\\n",
              "count       50000        50000.000000     45518       50000             40171   \n",
              "unique         13                 NaN         7          40                 2   \n",
              "top     150,000km                 NaN    benzin  volkswagen              nein   \n",
              "freq        32424                 NaN     30107       10687             35232   \n",
              "mean          NaN            5.723360       NaN         NaN               NaN   \n",
              "std           NaN            3.711984       NaN         NaN               NaN   \n",
              "min           NaN            0.000000       NaN         NaN               NaN   \n",
              "25%           NaN            3.000000       NaN         NaN               NaN   \n",
              "50%           NaN            6.000000       NaN         NaN               NaN   \n",
              "75%           NaN            9.000000       NaN         NaN               NaN   \n",
              "max           NaN           12.000000       NaN         NaN               NaN   \n",
              "\n",
              "                 ad_created  num_photos   postal_code            last_seen  \n",
              "count                 50000     50000.0  50000.000000                50000  \n",
              "unique                   76         NaN           NaN                39481  \n",
              "top     2016-04-03 00:00:00         NaN           NaN  2016-04-07 06:17:27  \n",
              "freq                   1946         NaN           NaN                    8  \n",
              "mean                    NaN         0.0  50813.627300                  NaN  \n",
              "std                     NaN         0.0  25779.747957                  NaN  \n",
              "min                     NaN         0.0   1067.000000                  NaN  \n",
              "25%                     NaN         0.0  30451.000000                  NaN  \n",
              "50%                     NaN         0.0  49577.000000                  NaN  \n",
              "75%                     NaN         0.0  71540.000000                  NaN  \n",
              "max                     NaN         0.0  99998.000000                  NaN  "
            ]
          },
          "execution_count": 159,
          "metadata": {},
          "output_type": "execute_result"
        }
      ]
    },
    {
      "cell_type": "code",
      "metadata": {
        "id": "eKqk2s7x7ptu",
        "outputId": "18378adf-8fc2-472c-d302-bde421453cde"
      },
      "source": [
        "autos.head(2)"
      ],
      "execution_count": null,
      "outputs": [
        {
          "data": {
            "text/html": [
              "<div>\n",
              "<style scoped>\n",
              "    .dataframe tbody tr th:only-of-type {\n",
              "        vertical-align: middle;\n",
              "    }\n",
              "\n",
              "    .dataframe tbody tr th {\n",
              "        vertical-align: top;\n",
              "    }\n",
              "\n",
              "    .dataframe thead th {\n",
              "        text-align: right;\n",
              "    }\n",
              "</style>\n",
              "<table border=\"1\" class=\"dataframe\">\n",
              "  <thead>\n",
              "    <tr style=\"text-align: right;\">\n",
              "      <th></th>\n",
              "      <th>date_crawled</th>\n",
              "      <th>name</th>\n",
              "      <th>seller</th>\n",
              "      <th>offer_type</th>\n",
              "      <th>price</th>\n",
              "      <th>ab_test</th>\n",
              "      <th>vehicle_type</th>\n",
              "      <th>registration_year</th>\n",
              "      <th>gear_box</th>\n",
              "      <th>power_ps</th>\n",
              "      <th>model</th>\n",
              "      <th>odometer</th>\n",
              "      <th>registration_month</th>\n",
              "      <th>fuel_type</th>\n",
              "      <th>brand</th>\n",
              "      <th>unrepaired_damage</th>\n",
              "      <th>ad_created</th>\n",
              "      <th>num_photos</th>\n",
              "      <th>postal_code</th>\n",
              "      <th>last_seen</th>\n",
              "    </tr>\n",
              "  </thead>\n",
              "  <tbody>\n",
              "    <tr>\n",
              "      <th>0</th>\n",
              "      <td>2016-03-26 17:47:46</td>\n",
              "      <td>Peugeot_807_160_NAVTECH_ON_BOARD</td>\n",
              "      <td>privat</td>\n",
              "      <td>Angebot</td>\n",
              "      <td>$5,000</td>\n",
              "      <td>control</td>\n",
              "      <td>bus</td>\n",
              "      <td>2004</td>\n",
              "      <td>manuell</td>\n",
              "      <td>158</td>\n",
              "      <td>andere</td>\n",
              "      <td>150,000km</td>\n",
              "      <td>3</td>\n",
              "      <td>lpg</td>\n",
              "      <td>peugeot</td>\n",
              "      <td>nein</td>\n",
              "      <td>2016-03-26 00:00:00</td>\n",
              "      <td>0</td>\n",
              "      <td>79588</td>\n",
              "      <td>2016-04-06 06:45:54</td>\n",
              "    </tr>\n",
              "    <tr>\n",
              "      <th>1</th>\n",
              "      <td>2016-04-04 13:38:56</td>\n",
              "      <td>BMW_740i_4_4_Liter_HAMANN_UMBAU_Mega_Optik</td>\n",
              "      <td>privat</td>\n",
              "      <td>Angebot</td>\n",
              "      <td>$8,500</td>\n",
              "      <td>control</td>\n",
              "      <td>limousine</td>\n",
              "      <td>1997</td>\n",
              "      <td>automatik</td>\n",
              "      <td>286</td>\n",
              "      <td>7er</td>\n",
              "      <td>150,000km</td>\n",
              "      <td>6</td>\n",
              "      <td>benzin</td>\n",
              "      <td>bmw</td>\n",
              "      <td>nein</td>\n",
              "      <td>2016-04-04 00:00:00</td>\n",
              "      <td>0</td>\n",
              "      <td>71034</td>\n",
              "      <td>2016-04-06 14:45:08</td>\n",
              "    </tr>\n",
              "  </tbody>\n",
              "</table>\n",
              "</div>"
            ],
            "text/plain": [
              "          date_crawled                                        name  seller  \\\n",
              "0  2016-03-26 17:47:46            Peugeot_807_160_NAVTECH_ON_BOARD  privat   \n",
              "1  2016-04-04 13:38:56  BMW_740i_4_4_Liter_HAMANN_UMBAU_Mega_Optik  privat   \n",
              "\n",
              "  offer_type   price  ab_test vehicle_type  registration_year   gear_box  \\\n",
              "0    Angebot  $5,000  control          bus               2004    manuell   \n",
              "1    Angebot  $8,500  control    limousine               1997  automatik   \n",
              "\n",
              "   power_ps   model   odometer  registration_month fuel_type    brand  \\\n",
              "0       158  andere  150,000km                   3       lpg  peugeot   \n",
              "1       286     7er  150,000km                   6    benzin      bmw   \n",
              "\n",
              "  unrepaired_damage           ad_created  num_photos  postal_code  \\\n",
              "0              nein  2016-03-26 00:00:00           0        79588   \n",
              "1              nein  2016-04-04 00:00:00           0        71034   \n",
              "\n",
              "             last_seen  \n",
              "0  2016-04-06 06:45:54  \n",
              "1  2016-04-06 14:45:08  "
            ]
          },
          "execution_count": 160,
          "metadata": {},
          "output_type": "execute_result"
        }
      ]
    },
    {
      "cell_type": "code",
      "metadata": {
        "id": "PCCOCXVp7ptx",
        "outputId": "374d804e-6ea5-4f96-c3d7-b10933c2a380"
      },
      "source": [
        "autos[\"gear_box\"].value_counts()"
      ],
      "execution_count": null,
      "outputs": [
        {
          "data": {
            "text/plain": [
              "manuell      36993\n",
              "automatik    10327\n",
              "Name: gear_box, dtype: int64"
            ]
          },
          "execution_count": 161,
          "metadata": {},
          "output_type": "execute_result"
        }
      ]
    },
    {
      "cell_type": "code",
      "metadata": {
        "id": "u8taqPXk7pty",
        "outputId": "804f449b-9463-4a25-ec14-717d1f0581d5"
      },
      "source": [
        "autos[\"unrepaired_damage\"].value_counts()"
      ],
      "execution_count": null,
      "outputs": [
        {
          "data": {
            "text/plain": [
              "nein    35232\n",
              "ja       4939\n",
              "Name: unrepaired_damage, dtype: int64"
            ]
          },
          "execution_count": 162,
          "metadata": {},
          "output_type": "execute_result"
        }
      ]
    },
    {
      "cell_type": "code",
      "metadata": {
        "id": "absBF2Nt7ptz",
        "outputId": "137eeef1-ac09-43a1-8125-a56db665f761"
      },
      "source": [
        "autos[\"vehicle_type\"].value_counts()"
      ],
      "execution_count": null,
      "outputs": [
        {
          "data": {
            "text/plain": [
              "limousine     12859\n",
              "kleinwagen    10822\n",
              "kombi          9127\n",
              "bus            4093\n",
              "cabrio         3061\n",
              "coupe          2537\n",
              "suv            1986\n",
              "andere          420\n",
              "Name: vehicle_type, dtype: int64"
            ]
          },
          "execution_count": 163,
          "metadata": {},
          "output_type": "execute_result"
        }
      ]
    },
    {
      "cell_type": "code",
      "metadata": {
        "id": "n630Bp3t7pt2",
        "outputId": "657c76da-14fb-47d4-b65b-02bc73bd00cf"
      },
      "source": [
        "autos[\"num_photos\"].value_counts()"
      ],
      "execution_count": null,
      "outputs": [
        {
          "data": {
            "text/plain": [
              "0    50000\n",
              "Name: num_photos, dtype: int64"
            ]
          },
          "execution_count": 164,
          "metadata": {},
          "output_type": "execute_result"
        }
      ]
    },
    {
      "cell_type": "code",
      "metadata": {
        "id": "tHm5s8iG7pt3",
        "outputId": "681c2083-2217-46c5-f725-4a1da6c8912b"
      },
      "source": [
        "autos[\"fuel_type\"].value_counts()"
      ],
      "execution_count": null,
      "outputs": [
        {
          "data": {
            "text/plain": [
              "benzin     30107\n",
              "diesel     14567\n",
              "lpg          691\n",
              "cng           75\n",
              "hybrid        37\n",
              "andere        22\n",
              "elektro       19\n",
              "Name: fuel_type, dtype: int64"
            ]
          },
          "execution_count": 165,
          "metadata": {},
          "output_type": "execute_result"
        }
      ]
    },
    {
      "cell_type": "code",
      "metadata": {
        "id": "d_7idSvf7pt4",
        "outputId": "ebc2bcc1-75fc-4ac6-c454-b0d58745381f"
      },
      "source": [
        "autos[\"brand\"].value_counts()"
      ],
      "execution_count": null,
      "outputs": [
        {
          "data": {
            "text/plain": [
              "volkswagen        10687\n",
              "opel               5461\n",
              "bmw                5429\n",
              "mercedes_benz      4734\n",
              "audi               4283\n",
              "ford               3479\n",
              "renault            2404\n",
              "peugeot            1456\n",
              "fiat               1308\n",
              "seat                941\n",
              "skoda               786\n",
              "mazda               757\n",
              "nissan              754\n",
              "smart               701\n",
              "citroen             701\n",
              "toyota              617\n",
              "sonstige_autos      546\n",
              "hyundai             488\n",
              "volvo               457\n",
              "mini                424\n",
              "mitsubishi          406\n",
              "honda               399\n",
              "kia                 356\n",
              "alfa_romeo          329\n",
              "porsche             294\n",
              "suzuki              293\n",
              "chevrolet           283\n",
              "chrysler            181\n",
              "dacia               129\n",
              "daihatsu            128\n",
              "jeep                110\n",
              "subaru              109\n",
              "land_rover           99\n",
              "saab                 80\n",
              "daewoo               79\n",
              "trabant              78\n",
              "jaguar               77\n",
              "rover                69\n",
              "lancia               57\n",
              "lada                 31\n",
              "Name: brand, dtype: int64"
            ]
          },
          "execution_count": 166,
          "metadata": {},
          "output_type": "execute_result"
        }
      ]
    },
    {
      "cell_type": "code",
      "metadata": {
        "id": "mGVomIrI7pt4",
        "outputId": "d4b6a978-5762-4cfa-d0f5-eabe6e57f50f"
      },
      "source": [
        "autos[\"seller\"].value_counts()"
      ],
      "execution_count": null,
      "outputs": [
        {
          "data": {
            "text/plain": [
              "privat        49999\n",
              "gewerblich        1\n",
              "Name: seller, dtype: int64"
            ]
          },
          "execution_count": 167,
          "metadata": {},
          "output_type": "execute_result"
        }
      ]
    },
    {
      "cell_type": "code",
      "metadata": {
        "id": "VoXz47Nw7pt5",
        "outputId": "bbf86829-282f-4cd8-8e63-21c7ea27ab48"
      },
      "source": [
        "autos[\"offer_type\"].value_counts()"
      ],
      "execution_count": null,
      "outputs": [
        {
          "data": {
            "text/plain": [
              "Angebot    49999\n",
              "Gesuch         1\n",
              "Name: offer_type, dtype: int64"
            ]
          },
          "execution_count": 168,
          "metadata": {},
          "output_type": "execute_result"
        }
      ]
    },
    {
      "cell_type": "markdown",
      "metadata": {
        "id": "DweYOdOw7pt5"
      },
      "source": [
        "Intial take on Dataset\n",
        "- price and odometer are strings type need to convert into int\n",
        "- The seller, offer_type, num_photos does not give much info can be dropped from orignal dataset\n",
        "- There are few columns which can be converted from german to english"
      ]
    },
    {
      "cell_type": "code",
      "metadata": {
        "id": "NB9YErvu7pt6",
        "outputId": "80f801e2-cff3-448e-e72b-7fe01bfa6901"
      },
      "source": [
        "autos = autos.drop([\"seller\", \"offer_type\", \"num_photos\"],axis = 1)\n",
        "autos.shape"
      ],
      "execution_count": null,
      "outputs": [
        {
          "data": {
            "text/plain": [
              "(50000, 17)"
            ]
          },
          "execution_count": 169,
          "metadata": {},
          "output_type": "execute_result"
        }
      ]
    },
    {
      "cell_type": "code",
      "metadata": {
        "id": "CWueySPZ7pt6",
        "outputId": "fdbf8db6-5af5-49de-b49f-218d374601cc"
      },
      "source": [
        "autos[\"odometer\"] = (autos[\"odometer\"].str.replace(\"km\",\"\")\n",
        "                     .str.replace(\",\",\"\").astype(int))\n",
        "autos.rename({\"odometer\":\"odometer_km\"}, axis=1, inplace=True)\n",
        "autos[\"odometer_km\"].head(2)"
      ],
      "execution_count": null,
      "outputs": [
        {
          "data": {
            "text/plain": [
              "0    150000\n",
              "1    150000\n",
              "Name: odometer_km, dtype: int64"
            ]
          },
          "execution_count": 170,
          "metadata": {},
          "output_type": "execute_result"
        }
      ]
    },
    {
      "cell_type": "code",
      "metadata": {
        "id": "1V9Ouyxi7pt7",
        "outputId": "c8957b31-dafc-4856-f453-44b53cd1ddde"
      },
      "source": [
        "autos[\"price\"] = (autos[\"price\"].str.replace(\"$\",\"\")\n",
        "                  .str.replace(\",\",\"\").astype(int))\n",
        "autos.rename({\"price\":\"price($)\"}, axis=1, inplace=True)\n",
        "autos[\"price($)\"].head(10)              \n",
        "                 "
      ],
      "execution_count": null,
      "outputs": [
        {
          "data": {
            "text/plain": [
              "0    5000\n",
              "1    8500\n",
              "2    8990\n",
              "3    4350\n",
              "4    1350\n",
              "5    7900\n",
              "6     300\n",
              "7    1990\n",
              "8     250\n",
              "9     590\n",
              "Name: price($), dtype: int64"
            ]
          },
          "execution_count": 171,
          "metadata": {},
          "output_type": "execute_result"
        }
      ]
    },
    {
      "cell_type": "code",
      "metadata": {
        "id": "lFPqmkrH7pt8",
        "outputId": "5882799b-53b2-4427-8797-8290d7e94aef"
      },
      "source": [
        "#lets explore the column of odometer and price\n",
        "#odometer column\n",
        "autos[\"odometer_km\"].value_counts()"
      ],
      "execution_count": null,
      "outputs": [
        {
          "data": {
            "text/plain": [
              "150000    32424\n",
              "125000     5170\n",
              "100000     2169\n",
              "90000      1757\n",
              "80000      1436\n",
              "70000      1230\n",
              "60000      1164\n",
              "50000      1027\n",
              "5000        967\n",
              "40000       819\n",
              "30000       789\n",
              "20000       784\n",
              "10000       264\n",
              "Name: odometer_km, dtype: int64"
            ]
          },
          "execution_count": 172,
          "metadata": {},
          "output_type": "execute_result"
        }
      ]
    },
    {
      "cell_type": "code",
      "metadata": {
        "id": "RzeSRriw7pt8",
        "outputId": "f30c3089-595f-43ac-bad9-d1459eea1db3"
      },
      "source": [
        "# pric column\n",
        "print(autos[\"price($)\"].describe())\n",
        "print(autos[\"price($)\"].value_counts().sort_index().head(20))\n",
        "print(autos[\"price($)\"].value_counts().sort_index(ascending=True).tail(20))\n",
        "print(autos[\"price($)\"].unique().shape)"
      ],
      "execution_count": null,
      "outputs": [
        {
          "name": "stdout",
          "output_type": "stream",
          "text": [
            "count    5.000000e+04\n",
            "mean     9.840044e+03\n",
            "std      4.811044e+05\n",
            "min      0.000000e+00\n",
            "25%      1.100000e+03\n",
            "50%      2.950000e+03\n",
            "75%      7.200000e+03\n",
            "max      1.000000e+08\n",
            "Name: price($), dtype: float64\n",
            "0     1421\n",
            "1      156\n",
            "2        3\n",
            "3        1\n",
            "5        2\n",
            "8        1\n",
            "9        1\n",
            "10       7\n",
            "11       2\n",
            "12       3\n",
            "13       2\n",
            "14       1\n",
            "15       2\n",
            "17       3\n",
            "18       1\n",
            "20       4\n",
            "25       5\n",
            "29       1\n",
            "30       7\n",
            "35       1\n",
            "Name: price($), dtype: int64\n",
            "197000      1\n",
            "198000      1\n",
            "220000      1\n",
            "250000      1\n",
            "259000      1\n",
            "265000      1\n",
            "295000      1\n",
            "299000      1\n",
            "345000      1\n",
            "350000      1\n",
            "999990      1\n",
            "999999      2\n",
            "1234566     1\n",
            "1300000     1\n",
            "3890000     1\n",
            "10000000    1\n",
            "11111111    2\n",
            "12345678    3\n",
            "27322222    1\n",
            "99999999    1\n",
            "Name: price($), dtype: int64\n",
            "(2357,)\n"
          ]
        }
      ]
    },
    {
      "cell_type": "code",
      "metadata": {
        "id": "yWAxXCrc7pt9",
        "outputId": "6d96f0d6-b5b5-4385-ea97-882316274f01"
      },
      "source": [
        "# There are 2357 unique values of prices \n",
        "# If we see that there are outliers present in the data for lower and upper prices \n",
        "# It can be seen that minimum values is 0 and maximum values is 1 Million\n",
        "# so we will take only values between (1000 to 100000)\n",
        "\n",
        "autos = autos[autos[\"price($)\"].between(1000,100000)]\n",
        "print(autos[\"price($)\"].describe())\n",
        "\n",
        "# so minimum values is now 1000 and maximum values is 99900"
      ],
      "execution_count": null,
      "outputs": [
        {
          "name": "stdout",
          "output_type": "stream",
          "text": [
            "count    38587.000000\n",
            "mean      7089.045482\n",
            "std       7893.814349\n",
            "min       1000.000000\n",
            "25%       2200.000000\n",
            "50%       4300.000000\n",
            "75%       8950.000000\n",
            "max      99900.000000\n",
            "Name: price($), dtype: float64\n"
          ]
        }
      ]
    },
    {
      "cell_type": "code",
      "metadata": {
        "id": "-nWDQlpN7pt-",
        "outputId": "c95f2265-eb6c-42e4-976c-4ebb05c5d9b9"
      },
      "source": [
        "# Now explore the date columns \n",
        "autos[[\"date_crawled\", \"ad_created\", \"last_seen\"]][0:5]"
      ],
      "execution_count": null,
      "outputs": [
        {
          "data": {
            "text/html": [
              "<div>\n",
              "<style scoped>\n",
              "    .dataframe tbody tr th:only-of-type {\n",
              "        vertical-align: middle;\n",
              "    }\n",
              "\n",
              "    .dataframe tbody tr th {\n",
              "        vertical-align: top;\n",
              "    }\n",
              "\n",
              "    .dataframe thead th {\n",
              "        text-align: right;\n",
              "    }\n",
              "</style>\n",
              "<table border=\"1\" class=\"dataframe\">\n",
              "  <thead>\n",
              "    <tr style=\"text-align: right;\">\n",
              "      <th></th>\n",
              "      <th>date_crawled</th>\n",
              "      <th>ad_created</th>\n",
              "      <th>last_seen</th>\n",
              "    </tr>\n",
              "  </thead>\n",
              "  <tbody>\n",
              "    <tr>\n",
              "      <th>0</th>\n",
              "      <td>2016-03-26 17:47:46</td>\n",
              "      <td>2016-03-26 00:00:00</td>\n",
              "      <td>2016-04-06 06:45:54</td>\n",
              "    </tr>\n",
              "    <tr>\n",
              "      <th>1</th>\n",
              "      <td>2016-04-04 13:38:56</td>\n",
              "      <td>2016-04-04 00:00:00</td>\n",
              "      <td>2016-04-06 14:45:08</td>\n",
              "    </tr>\n",
              "    <tr>\n",
              "      <th>2</th>\n",
              "      <td>2016-03-26 18:57:24</td>\n",
              "      <td>2016-03-26 00:00:00</td>\n",
              "      <td>2016-04-06 20:15:37</td>\n",
              "    </tr>\n",
              "    <tr>\n",
              "      <th>3</th>\n",
              "      <td>2016-03-12 16:58:10</td>\n",
              "      <td>2016-03-12 00:00:00</td>\n",
              "      <td>2016-03-15 03:16:28</td>\n",
              "    </tr>\n",
              "    <tr>\n",
              "      <th>4</th>\n",
              "      <td>2016-04-01 14:38:50</td>\n",
              "      <td>2016-04-01 00:00:00</td>\n",
              "      <td>2016-04-01 14:38:50</td>\n",
              "    </tr>\n",
              "  </tbody>\n",
              "</table>\n",
              "</div>"
            ],
            "text/plain": [
              "          date_crawled           ad_created            last_seen\n",
              "0  2016-03-26 17:47:46  2016-03-26 00:00:00  2016-04-06 06:45:54\n",
              "1  2016-04-04 13:38:56  2016-04-04 00:00:00  2016-04-06 14:45:08\n",
              "2  2016-03-26 18:57:24  2016-03-26 00:00:00  2016-04-06 20:15:37\n",
              "3  2016-03-12 16:58:10  2016-03-12 00:00:00  2016-03-15 03:16:28\n",
              "4  2016-04-01 14:38:50  2016-04-01 00:00:00  2016-04-01 14:38:50"
            ]
          },
          "execution_count": 175,
          "metadata": {},
          "output_type": "execute_result"
        }
      ]
    },
    {
      "cell_type": "code",
      "metadata": {
        "id": "IFTZNgbO7pt-",
        "outputId": "668f781d-fff9-4ae6-afa1-ca87eb172e51"
      },
      "source": [
        "# It can be observe that the dates are stored as strings\n",
        "(autos[\"date_crawled\"].str[:10].value_counts(normalize=True, dropna=False).sort_index())"
      ],
      "execution_count": null,
      "outputs": [
        {
          "data": {
            "text/plain": [
              "2016-03-05    0.025527\n",
              "2016-03-06    0.013891\n",
              "2016-03-07    0.035167\n",
              "2016-03-08    0.032602\n",
              "2016-03-09    0.032472\n",
              "2016-03-10    0.033353\n",
              "2016-03-11    0.032835\n",
              "2016-03-12    0.037396\n",
              "2016-03-13    0.016016\n",
              "2016-03-14    0.036670\n",
              "2016-03-15    0.033612\n",
              "2016-03-16    0.029077\n",
              "2016-03-17    0.030477\n",
              "2016-03-18    0.012802\n",
              "2016-03-19    0.035167\n",
              "2016-03-20    0.038173\n",
              "2016-03-21    0.037266\n",
              "2016-03-22    0.032420\n",
              "2016-03-23    0.032213\n",
              "2016-03-24    0.029025\n",
              "2016-03-25    0.030528\n",
              "2016-03-26    0.033094\n",
              "2016-03-27    0.031384\n",
              "2016-03-28    0.035349\n",
              "2016-03-29    0.034001\n",
              "2016-03-30    0.033016\n",
              "2016-03-31    0.031410\n",
              "2016-04-01    0.034571\n",
              "2016-04-02    0.036333\n",
              "2016-04-03    0.039132\n",
              "2016-04-04    0.036904\n",
              "2016-04-05    0.013346\n",
              "2016-04-06    0.003265\n",
              "2016-04-07    0.001503\n",
              "Name: date_crawled, dtype: float64"
            ]
          },
          "execution_count": 176,
          "metadata": {},
          "output_type": "execute_result"
        }
      ]
    },
    {
      "cell_type": "code",
      "metadata": {
        "id": "zWlazkqE7pt_",
        "outputId": "87a75fab-03f9-41df-9747-0b265278fccd"
      },
      "source": [
        "(autos[\"ad_created\"].str[:10].value_counts(normalize=True, dropna=False).sort_index())"
      ],
      "execution_count": null,
      "outputs": [
        {
          "data": {
            "text/plain": [
              "2015-06-11    0.000026\n",
              "2015-08-10    0.000026\n",
              "2015-09-09    0.000026\n",
              "2015-11-10    0.000026\n",
              "2015-12-30    0.000026\n",
              "                ...   \n",
              "2016-04-03    0.039443\n",
              "2016-04-04    0.037318\n",
              "2016-04-05    0.011973\n",
              "2016-04-06    0.003369\n",
              "2016-04-07    0.001322\n",
              "Name: ad_created, Length: 74, dtype: float64"
            ]
          },
          "execution_count": 177,
          "metadata": {},
          "output_type": "execute_result"
        }
      ]
    },
    {
      "cell_type": "code",
      "metadata": {
        "id": "IufqVuyc7puA",
        "outputId": "c2a5b661-a00a-4477-993e-108e6c8a4a3f"
      },
      "source": [
        "(autos[\"last_seen\"].str[:10].value_counts(normalize=True, dropna=False).sort_index())"
      ],
      "execution_count": null,
      "outputs": [
        {
          "data": {
            "text/plain": [
              "2016-03-05    0.001088\n",
              "2016-03-06    0.003576\n",
              "2016-03-07    0.004561\n",
              "2016-03-08    0.006246\n",
              "2016-03-09    0.008889\n",
              "2016-03-10    0.009822\n",
              "2016-03-11    0.011740\n",
              "2016-03-12    0.022210\n",
              "2016-03-13    0.008397\n",
              "2016-03-14    0.011999\n",
              "2016-03-15    0.015005\n",
              "2016-03-16    0.015446\n",
              "2016-03-17    0.026408\n",
              "2016-03-18    0.007360\n",
              "2016-03-19    0.014616\n",
              "2016-03-20    0.019799\n",
              "2016-03-21    0.019670\n",
              "2016-03-22    0.020810\n",
              "2016-03-23    0.017908\n",
              "2016-03-24    0.018504\n",
              "2016-03-25    0.017778\n",
              "2016-03-26    0.016016\n",
              "2016-03-27    0.014072\n",
              "2016-03-28    0.019411\n",
              "2016-03-29    0.020784\n",
              "2016-03-30    0.023479\n",
              "2016-03-31    0.022754\n",
              "2016-04-01    0.023220\n",
              "2016-04-02    0.024905\n",
              "2016-04-03    0.024438\n",
              "2016-04-04    0.023402\n",
              "2016-04-05    0.130977\n",
              "2016-04-06    0.234742\n",
              "2016-04-07    0.139969\n",
              "Name: last_seen, dtype: float64"
            ]
          },
          "execution_count": 178,
          "metadata": {},
          "output_type": "execute_result"
        }
      ]
    },
    {
      "cell_type": "code",
      "metadata": {
        "id": "s20qNgAC7puB",
        "outputId": "9510c4fd-75aa-449c-ab5a-a303143612cc"
      },
      "source": [
        "import datetime as dt\n",
        "\n",
        "columns = [\"date_crawled\",\"ad_created\",\"last_seen\"]\n",
        "\n",
        "for date in columns:\n",
        "    min_value = dt.datetime.strptime(autos[date].str[:10].min(), \"%Y-%m-%d\")\n",
        "    min_value_1 = min_value.strftime(\"%Y-%m-%d\")\n",
        "    max_value = dt.datetime.strptime(autos[date].str[:10].max(), \"%Y-%m-%d\")\n",
        "    max_value_2 = max_value.strftime(\"%Y-%m-%d\")\n",
        "    print(f\"The minimum value of the column {date} is {min_value_1}\")\n",
        "    print(f\"The maximum value of the column {date} is {max_value_2}\")\n",
        "    print(\"The diffrence in days are {}\".format(str(max_value-min_value)[:7]))\n",
        "    print(\"\\n\")"
      ],
      "execution_count": null,
      "outputs": [
        {
          "name": "stdout",
          "output_type": "stream",
          "text": [
            "The minimum value of the column date_crawled is 2016-03-05\n",
            "The maximum value of the column date_crawled is 2016-04-07\n",
            "The diffrence in days are 33 days\n",
            "\n",
            "\n",
            "The minimum value of the column ad_created is 2015-06-11\n",
            "The maximum value of the column ad_created is 2016-04-07\n",
            "The diffrence in days are 301 day\n",
            "\n",
            "\n",
            "The minimum value of the column last_seen is 2016-03-05\n",
            "The maximum value of the column last_seen is 2016-04-07\n",
            "The diffrence in days are 33 days\n",
            "\n",
            "\n"
          ]
        }
      ]
    },
    {
      "cell_type": "markdown",
      "metadata": {
        "id": "7TO5lmdf7puC"
      },
      "source": [
        "It can be understood that\n",
        "- date_crawled was done for 33 days\n",
        "- The ad_created are from 301 days(~10 months)\n",
        "- The last_seen alling with date_crawled"
      ]
    },
    {
      "cell_type": "code",
      "metadata": {
        "id": "HbZ_ApZu7puC",
        "outputId": "ad322ca1-1bf9-4743-ea59-dbafb9bd7e39"
      },
      "source": [
        "autos[\"registration_year\"].describe()"
      ],
      "execution_count": null,
      "outputs": [
        {
          "data": {
            "text/plain": [
              "count    38587.000000\n",
              "mean      2005.680125\n",
              "std         86.727780\n",
              "min       1000.000000\n",
              "25%       2001.000000\n",
              "50%       2005.000000\n",
              "75%       2009.000000\n",
              "max       9999.000000\n",
              "Name: registration_year, dtype: float64"
            ]
          },
          "execution_count": 180,
          "metadata": {},
          "output_type": "execute_result"
        }
      ]
    },
    {
      "cell_type": "code",
      "metadata": {
        "id": "MpxQeDlY7puC",
        "outputId": "d6930954-cff1-4b18-d9ff-51e2603b66ae"
      },
      "source": [
        "# it can be seen that year are off can be look min(1000) and max(9999) values\n",
        "# so I am considering only registered car between 1900 and 2016\n",
        "autos = autos[autos[\"registration_year\"].between(1900,2016)]\n",
        "autos[\"registration_year\"].value_counts(normalize = True).head(20)\n",
        "\n",
        "# It appears that most of the veichle registered in the past 20 years"
      ],
      "execution_count": null,
      "outputs": [
        {
          "data": {
            "text/plain": [
              "2005    0.074932\n",
              "2006    0.071327\n",
              "2004    0.070170\n",
              "2003    0.066645\n",
              "2007    0.060753\n",
              "2008    0.059246\n",
              "2002    0.057443\n",
              "2009    0.055856\n",
              "2001    0.055533\n",
              "2000    0.053811\n",
              "1999    0.046385\n",
              "2011    0.043479\n",
              "2010    0.042511\n",
              "2012    0.035058\n",
              "1998    0.034439\n",
              "2013    0.021282\n",
              "1997    0.021148\n",
              "2014    0.017408\n",
              "2016    0.017354\n",
              "1996    0.014583\n",
              "Name: registration_year, dtype: float64"
            ]
          },
          "execution_count": 181,
          "metadata": {},
          "output_type": "execute_result"
        }
      ]
    },
    {
      "cell_type": "code",
      "metadata": {
        "id": "HaGDNOEL7puD",
        "outputId": "c47ff39d-cba8-4701-9025-b954d74f8822"
      },
      "source": [
        "# price by brand\n",
        "l = autos[\"brand\"].value_counts(normalize=True)\n",
        "l*100"
      ],
      "execution_count": null,
      "outputs": [
        {
          "data": {
            "text/plain": [
              "volkswagen        21.102053\n",
              "bmw               12.540695\n",
              "mercedes_benz     11.163129\n",
              "audi               9.766729\n",
              "opel               8.916512\n",
              "ford               5.873490\n",
              "renault            3.731805\n",
              "peugeot            2.792800\n",
              "fiat               2.109398\n",
              "skoda              1.907606\n",
              "seat               1.730029\n",
              "smart              1.662765\n",
              "toyota             1.463664\n",
              "mazda              1.425996\n",
              "citroen            1.391019\n",
              "nissan             1.364113\n",
              "mini               1.089676\n",
              "hyundai            1.076224\n",
              "sonstige_autos     1.033175\n",
              "volvo              0.898647\n",
              "kia                0.769500\n",
              "honda              0.734523\n",
              "mitsubishi         0.688783\n",
              "porsche            0.678021\n",
              "chevrolet          0.661877\n",
              "alfa_romeo         0.624210\n",
              "suzuki             0.573089\n",
              "dacia              0.328248\n",
              "chrysler           0.317486\n",
              "jeep               0.277128\n",
              "land_rover         0.263675\n",
              "jaguar             0.185649\n",
              "subaru             0.172196\n",
              "daihatsu           0.169505\n",
              "saab               0.137219\n",
              "daewoo             0.091479\n",
              "trabant            0.086098\n",
              "rover              0.072645\n",
              "lancia             0.067264\n",
              "lada               0.061883\n",
              "Name: brand, dtype: float64"
            ]
          },
          "execution_count": 182,
          "metadata": {},
          "output_type": "execute_result"
        }
      ]
    },
    {
      "cell_type": "code",
      "metadata": {
        "id": "gKCIgGDO7puD",
        "outputId": "068f6fab-8e59-456c-a7b5-63fd4e8a6482"
      },
      "source": [
        "# There a 4 out of 5 companies cars from German manufactures which covers approx. 50% of the market.\n",
        "# In that Volkswagen is th company whose sale is roughly double than the sale of next two brands\n",
        "#There are various brands which doen not have significant sale so we can drop those whose sale is below 5%\n",
        "brands_counts = autos[\"brand\"].value_counts(normalize=True)\n",
        "common_brand = brands_counts[brands_counts>.05].index\n",
        "print(common_brand)"
      ],
      "execution_count": null,
      "outputs": [
        {
          "name": "stdout",
          "output_type": "stream",
          "text": [
            "Index(['volkswagen', 'bmw', 'mercedes_benz', 'audi', 'opel', 'ford'], dtype='object')\n"
          ]
        }
      ]
    },
    {
      "cell_type": "code",
      "metadata": {
        "id": "p7n8dI8S7puD",
        "outputId": "611bf524-5806-4d8c-b6e8-525925400807"
      },
      "source": [
        "mean_prices_of_brand = {}\n",
        "\n",
        "for brand in common_brand:\n",
        "    brands = autos[autos[\"brand\"] == brand]\n",
        "    mean_price = brands[\"price($)\"].mean()\n",
        "    mean_prices_of_brand[brand] = int(mean_price)\n",
        "mean_prices_of_brand"
      ],
      "execution_count": null,
      "outputs": [
        {
          "data": {
            "text/plain": [
              "{'volkswagen': 6645,\n",
              " 'bmw': 8975,\n",
              " 'mercedes_benz': 9196,\n",
              " 'audi': 10276,\n",
              " 'opel': 4219,\n",
              " 'ford': 5274}"
            ]
          },
          "execution_count": 184,
          "metadata": {},
          "output_type": "execute_result"
        }
      ]
    },
    {
      "cell_type": "markdown",
      "metadata": {
        "id": "PZi64KDC7puD"
      },
      "source": [
        "- It can be observe that BMW, AUDI, MERCEDES BENZ are costly comparing from other brands\n",
        "- OPEL & FORD are cheap\n",
        "- While brand whose sale are high as comparison to other brands price is in between"
      ]
    },
    {
      "cell_type": "code",
      "metadata": {
        "id": "_m-iikuq7puD",
        "outputId": "3b0e35b1-e956-463d-ef57-b1951f2808d1"
      },
      "source": [
        "# Now I will try to show the mileage comparison between the top brands\n",
        "bmp_series = pd.Series(mean_prices_of_brand)\n",
        "pd.DataFrame(bmp_series, columns=[\"mean_price\"])"
      ],
      "execution_count": null,
      "outputs": [
        {
          "data": {
            "text/html": [
              "<div>\n",
              "<style scoped>\n",
              "    .dataframe tbody tr th:only-of-type {\n",
              "        vertical-align: middle;\n",
              "    }\n",
              "\n",
              "    .dataframe tbody tr th {\n",
              "        vertical-align: top;\n",
              "    }\n",
              "\n",
              "    .dataframe thead th {\n",
              "        text-align: right;\n",
              "    }\n",
              "</style>\n",
              "<table border=\"1\" class=\"dataframe\">\n",
              "  <thead>\n",
              "    <tr style=\"text-align: right;\">\n",
              "      <th></th>\n",
              "      <th>mean_price</th>\n",
              "    </tr>\n",
              "  </thead>\n",
              "  <tbody>\n",
              "    <tr>\n",
              "      <th>volkswagen</th>\n",
              "      <td>6645</td>\n",
              "    </tr>\n",
              "    <tr>\n",
              "      <th>bmw</th>\n",
              "      <td>8975</td>\n",
              "    </tr>\n",
              "    <tr>\n",
              "      <th>mercedes_benz</th>\n",
              "      <td>9196</td>\n",
              "    </tr>\n",
              "    <tr>\n",
              "      <th>audi</th>\n",
              "      <td>10276</td>\n",
              "    </tr>\n",
              "    <tr>\n",
              "      <th>opel</th>\n",
              "      <td>4219</td>\n",
              "    </tr>\n",
              "    <tr>\n",
              "      <th>ford</th>\n",
              "      <td>5274</td>\n",
              "    </tr>\n",
              "  </tbody>\n",
              "</table>\n",
              "</div>"
            ],
            "text/plain": [
              "               mean_price\n",
              "volkswagen           6645\n",
              "bmw                  8975\n",
              "mercedes_benz        9196\n",
              "audi                10276\n",
              "opel                 4219\n",
              "ford                 5274"
            ]
          },
          "execution_count": 185,
          "metadata": {},
          "output_type": "execute_result"
        }
      ]
    },
    {
      "cell_type": "code",
      "metadata": {
        "id": "fAg2lqNg7puE",
        "outputId": "00e99405-33ad-4d4e-b966-d4c3ebfdecb0"
      },
      "source": [
        "brand_mean_mileage = {}\n",
        "\n",
        "for brand in common_brand:\n",
        "    brand_only = autos[autos[\"brand\"] == brand]\n",
        "    mean_mileage = brand_only[\"odometer_km\"].mean()\n",
        "    brand_mean_mileage[brand] = int(mean_mileage)\n",
        "print(brand_mean_mileage)\n",
        "mean_mileage = pd.Series(brand_mean_mileage).sort_values(ascending=False)\n",
        "mean_prices = pd.Series(mean_prices_of_brand).sort_values(ascending=False)"
      ],
      "execution_count": null,
      "outputs": [
        {
          "name": "stdout",
          "output_type": "stream",
          "text": [
            "{'volkswagen': 125765, 'bmw': 132068, 'mercedes_benz': 130130, 'audi': 127524, 'opel': 123952, 'ford': 119651}\n"
          ]
        }
      ]
    },
    {
      "cell_type": "code",
      "metadata": {
        "id": "xvLhn1967puE",
        "outputId": "f92124c8-4705-4e1c-e2f7-558c52b86800"
      },
      "source": [
        "brand_info = pd.DataFrame(mean_mileage,columns=['mean_mileage'])\n",
        "brand_info"
      ],
      "execution_count": null,
      "outputs": [
        {
          "data": {
            "text/html": [
              "<div>\n",
              "<style scoped>\n",
              "    .dataframe tbody tr th:only-of-type {\n",
              "        vertical-align: middle;\n",
              "    }\n",
              "\n",
              "    .dataframe tbody tr th {\n",
              "        vertical-align: top;\n",
              "    }\n",
              "\n",
              "    .dataframe thead th {\n",
              "        text-align: right;\n",
              "    }\n",
              "</style>\n",
              "<table border=\"1\" class=\"dataframe\">\n",
              "  <thead>\n",
              "    <tr style=\"text-align: right;\">\n",
              "      <th></th>\n",
              "      <th>mean_mileage</th>\n",
              "    </tr>\n",
              "  </thead>\n",
              "  <tbody>\n",
              "    <tr>\n",
              "      <th>bmw</th>\n",
              "      <td>132068</td>\n",
              "    </tr>\n",
              "    <tr>\n",
              "      <th>mercedes_benz</th>\n",
              "      <td>130130</td>\n",
              "    </tr>\n",
              "    <tr>\n",
              "      <th>audi</th>\n",
              "      <td>127524</td>\n",
              "    </tr>\n",
              "    <tr>\n",
              "      <th>volkswagen</th>\n",
              "      <td>125765</td>\n",
              "    </tr>\n",
              "    <tr>\n",
              "      <th>opel</th>\n",
              "      <td>123952</td>\n",
              "    </tr>\n",
              "    <tr>\n",
              "      <th>ford</th>\n",
              "      <td>119651</td>\n",
              "    </tr>\n",
              "  </tbody>\n",
              "</table>\n",
              "</div>"
            ],
            "text/plain": [
              "               mean_mileage\n",
              "bmw                  132068\n",
              "mercedes_benz        130130\n",
              "audi                 127524\n",
              "volkswagen           125765\n",
              "opel                 123952\n",
              "ford                 119651"
            ]
          },
          "execution_count": 187,
          "metadata": {},
          "output_type": "execute_result"
        }
      ]
    },
    {
      "cell_type": "code",
      "metadata": {
        "id": "WkxIzLBe7puE",
        "outputId": "e4392526-8a18-434e-d792-a45bac58a2e7"
      },
      "source": [
        "brand_info[\"mean_price\"] = mean_prices\n",
        "brand_info"
      ],
      "execution_count": null,
      "outputs": [
        {
          "data": {
            "text/html": [
              "<div>\n",
              "<style scoped>\n",
              "    .dataframe tbody tr th:only-of-type {\n",
              "        vertical-align: middle;\n",
              "    }\n",
              "\n",
              "    .dataframe tbody tr th {\n",
              "        vertical-align: top;\n",
              "    }\n",
              "\n",
              "    .dataframe thead th {\n",
              "        text-align: right;\n",
              "    }\n",
              "</style>\n",
              "<table border=\"1\" class=\"dataframe\">\n",
              "  <thead>\n",
              "    <tr style=\"text-align: right;\">\n",
              "      <th></th>\n",
              "      <th>mean_mileage</th>\n",
              "      <th>mean_price</th>\n",
              "    </tr>\n",
              "  </thead>\n",
              "  <tbody>\n",
              "    <tr>\n",
              "      <th>bmw</th>\n",
              "      <td>132068</td>\n",
              "      <td>8975</td>\n",
              "    </tr>\n",
              "    <tr>\n",
              "      <th>mercedes_benz</th>\n",
              "      <td>130130</td>\n",
              "      <td>9196</td>\n",
              "    </tr>\n",
              "    <tr>\n",
              "      <th>audi</th>\n",
              "      <td>127524</td>\n",
              "      <td>10276</td>\n",
              "    </tr>\n",
              "    <tr>\n",
              "      <th>volkswagen</th>\n",
              "      <td>125765</td>\n",
              "      <td>6645</td>\n",
              "    </tr>\n",
              "    <tr>\n",
              "      <th>opel</th>\n",
              "      <td>123952</td>\n",
              "      <td>4219</td>\n",
              "    </tr>\n",
              "    <tr>\n",
              "      <th>ford</th>\n",
              "      <td>119651</td>\n",
              "      <td>5274</td>\n",
              "    </tr>\n",
              "  </tbody>\n",
              "</table>\n",
              "</div>"
            ],
            "text/plain": [
              "               mean_mileage  mean_price\n",
              "bmw                  132068        8975\n",
              "mercedes_benz        130130        9196\n",
              "audi                 127524       10276\n",
              "volkswagen           125765        6645\n",
              "opel                 123952        4219\n",
              "ford                 119651        5274"
            ]
          },
          "execution_count": 188,
          "metadata": {},
          "output_type": "execute_result"
        }
      ]
    },
    {
      "cell_type": "markdown",
      "metadata": {
        "id": "crwm8t957puE"
      },
      "source": [
        "There is not much diffrence in the mileage of the brand as comparison to price. However we can observe that expensive veichle brand has a slightly better mileage less expensive veichles"
      ]
    }
  ]
}