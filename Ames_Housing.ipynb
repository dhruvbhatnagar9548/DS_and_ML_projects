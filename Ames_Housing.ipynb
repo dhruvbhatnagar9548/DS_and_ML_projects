{
  "nbformat": 4,
  "nbformat_minor": 0,
  "metadata": {
    "colab": {
      "name": "Ames_Housing.ipynb",
      "provenance": [],
      "collapsed_sections": [],
      "mount_file_id": "1kQwtOlyPxcu7452WAMH0QkJP_ajSoX9L",
      "authorship_tag": "ABX9TyPgJvYj4B/zmKpI9czewfxc"
    },
    "kernelspec": {
      "name": "python3",
      "display_name": "Python 3"
    },
    "language_info": {
      "name": "python"
    }
  },
  "cells": [
    {
      "cell_type": "markdown",
      "metadata": {
        "id": "Iql_2jURPiDX"
      },
      "source": [
        "\n",
        "#**House Sale Prices Prediction**\n",
        "\n",
        "###**Introduction of Dataset**\n",
        "\n",
        "The data that is used for predicting the house prices is obtained from the paper written by Dean de Cock in 2017. What was the need of collecting the data from where it is collected and why it is collected all mention in this [paper](https://www.tandfonline.com/doi/abs/10.1080/10691898.2011.11889627).\n",
        "\n",
        "This paper illustrate about the data set related to the sale of individual residential property in Ames, Iowa from 2006 to 2010. \n",
        "The data set contains:\n",
        "\n",
        "- 2930 observations\n",
        "- explanatory variables\n",
        "   - 23 nominal\n",
        "   - 23 ordinal\n",
        "   - 14 discrete\n",
        "   - 20 continous\n",
        "\n",
        "These variable involved in assessing sale price of home. \n",
        "\n",
        "### **Goal of the project**\n",
        "\n",
        "The goal for this project is to use linear regression model for analyzing to determine the variables out of 79 given in the dataset for estimating the sale prices of house by using available library resources (sklearn.model, pandas, numpy).\n",
        "\n",
        "\n",
        "\n",
        "\n",
        "\n"
      ]
    },
    {
      "cell_type": "code",
      "metadata": {
        "id": "-fB09iHhPc2b"
      },
      "source": [
        "# importing a python that will be useful during the project\n",
        "import pandas as pd\n",
        "import numpy as np\n",
        "import matplotlib.pyplot as plt\n",
        "from sklearn import linear_model\n",
        "from sklearn.metrics import mean_squared_error\n",
        "from sklearn.model_selection import KFold"
      ],
      "execution_count": null,
      "outputs": []
    },
    {
      "cell_type": "code",
      "metadata": {
        "colab": {
          "base_uri": "https://localhost:8080/"
        },
        "id": "zz9o_aCVQWnI",
        "outputId": "8f6f5975-94f7-4a09-f991-b3a5e334ba84"
      },
      "source": [
        "# reading the data file and reading first n files rows value\n",
        "df= pd.read_csv(\"/content/drive/MyDrive/AmesHousing.csv\")\n",
        "print(df.head())"
      ],
      "execution_count": null,
      "outputs": [
        {
          "output_type": "stream",
          "text": [
            "   Order        PID  MS SubClass  ... Sale Type  Sale Condition  SalePrice\n",
            "0      1  526301100           20  ...       WD           Normal     215000\n",
            "1      2  526350040           20  ...       WD           Normal     105000\n",
            "2      3  526351010           20  ...       WD           Normal     172000\n",
            "3      4  526353030           20  ...       WD           Normal     244000\n",
            "4      5  527105010           60  ...       WD           Normal     189900\n",
            "\n",
            "[5 rows x 82 columns]\n"
          ],
          "name": "stdout"
        }
      ]
    },
    {
      "cell_type": "code",
      "metadata": {
        "colab": {
          "base_uri": "https://localhost:8080/"
        },
        "id": "nz0ooUqAR4ff",
        "outputId": "e5427c69-96dc-4305-98f6-cba85e173444"
      },
      "source": [
        "# determining the shape of the data\n",
        "df.shape"
      ],
      "execution_count": null,
      "outputs": [
        {
          "output_type": "execute_result",
          "data": {
            "text/plain": [
              "(2930, 82)"
            ]
          },
          "metadata": {
            "tags": []
          },
          "execution_count": 358
        }
      ]
    },
    {
      "cell_type": "code",
      "metadata": {
        "colab": {
          "base_uri": "https://localhost:8080/"
        },
        "id": "I-UV33NESCtM",
        "outputId": "fa4dd2f2-2b05-42a6-bc5b-8200c94b27b0"
      },
      "source": [
        "# obtaining the description of the sale prices column\n",
        "df[\"SalePrice\"].describe()"
      ],
      "execution_count": null,
      "outputs": [
        {
          "output_type": "execute_result",
          "data": {
            "text/plain": [
              "count      2930.000000\n",
              "mean     180796.060068\n",
              "std       79886.692357\n",
              "min       12789.000000\n",
              "25%      129500.000000\n",
              "50%      160000.000000\n",
              "75%      213500.000000\n",
              "max      755000.000000\n",
              "Name: SalePrice, dtype: float64"
            ]
          },
          "metadata": {
            "tags": []
          },
          "execution_count": 359
        }
      ]
    },
    {
      "cell_type": "code",
      "metadata": {
        "colab": {
          "base_uri": "https://localhost:8080/"
        },
        "id": "k26HJCuySf_8",
        "outputId": "f406f4a9-b7a8-4386-e391-5f942a25690c"
      },
      "source": [
        "# Studying about the data types for every column\n",
        "df.info()"
      ],
      "execution_count": null,
      "outputs": [
        {
          "output_type": "stream",
          "text": [
            "<class 'pandas.core.frame.DataFrame'>\n",
            "RangeIndex: 2930 entries, 0 to 2929\n",
            "Data columns (total 82 columns):\n",
            " #   Column           Non-Null Count  Dtype  \n",
            "---  ------           --------------  -----  \n",
            " 0   Order            2930 non-null   int64  \n",
            " 1   PID              2930 non-null   int64  \n",
            " 2   MS SubClass      2930 non-null   int64  \n",
            " 3   MS Zoning        2930 non-null   object \n",
            " 4   Lot Frontage     2440 non-null   float64\n",
            " 5   Lot Area         2930 non-null   int64  \n",
            " 6   Street           2930 non-null   object \n",
            " 7   Alley            198 non-null    object \n",
            " 8   Lot Shape        2930 non-null   object \n",
            " 9   Land Contour     2930 non-null   object \n",
            " 10  Utilities        2930 non-null   object \n",
            " 11  Lot Config       2930 non-null   object \n",
            " 12  Land Slope       2930 non-null   object \n",
            " 13  Neighborhood     2930 non-null   object \n",
            " 14  Condition 1      2930 non-null   object \n",
            " 15  Condition 2      2930 non-null   object \n",
            " 16  Bldg Type        2930 non-null   object \n",
            " 17  House Style      2930 non-null   object \n",
            " 18  Overall Qual     2930 non-null   int64  \n",
            " 19  Overall Cond     2930 non-null   int64  \n",
            " 20  Year Built       2930 non-null   int64  \n",
            " 21  Year Remod/Add   2930 non-null   int64  \n",
            " 22  Roof Style       2930 non-null   object \n",
            " 23  Roof Matl        2930 non-null   object \n",
            " 24  Exterior 1st     2930 non-null   object \n",
            " 25  Exterior 2nd     2930 non-null   object \n",
            " 26  Mas Vnr Type     2907 non-null   object \n",
            " 27  Mas Vnr Area     2907 non-null   float64\n",
            " 28  Exter Qual       2930 non-null   object \n",
            " 29  Exter Cond       2930 non-null   object \n",
            " 30  Foundation       2930 non-null   object \n",
            " 31  Bsmt Qual        2850 non-null   object \n",
            " 32  Bsmt Cond        2850 non-null   object \n",
            " 33  Bsmt Exposure    2847 non-null   object \n",
            " 34  BsmtFin Type 1   2850 non-null   object \n",
            " 35  BsmtFin SF 1     2929 non-null   float64\n",
            " 36  BsmtFin Type 2   2849 non-null   object \n",
            " 37  BsmtFin SF 2     2929 non-null   float64\n",
            " 38  Bsmt Unf SF      2929 non-null   float64\n",
            " 39  Total Bsmt SF    2929 non-null   float64\n",
            " 40  Heating          2930 non-null   object \n",
            " 41  Heating QC       2930 non-null   object \n",
            " 42  Central Air      2930 non-null   object \n",
            " 43  Electrical       2929 non-null   object \n",
            " 44  1st Flr SF       2930 non-null   int64  \n",
            " 45  2nd Flr SF       2930 non-null   int64  \n",
            " 46  Low Qual Fin SF  2930 non-null   int64  \n",
            " 47  Gr Liv Area      2930 non-null   int64  \n",
            " 48  Bsmt Full Bath   2928 non-null   float64\n",
            " 49  Bsmt Half Bath   2928 non-null   float64\n",
            " 50  Full Bath        2930 non-null   int64  \n",
            " 51  Half Bath        2930 non-null   int64  \n",
            " 52  Bedroom AbvGr    2930 non-null   int64  \n",
            " 53  Kitchen AbvGr    2930 non-null   int64  \n",
            " 54  Kitchen Qual     2930 non-null   object \n",
            " 55  TotRms AbvGrd    2930 non-null   int64  \n",
            " 56  Functional       2930 non-null   object \n",
            " 57  Fireplaces       2930 non-null   int64  \n",
            " 58  Fireplace Qu     1508 non-null   object \n",
            " 59  Garage Type      2773 non-null   object \n",
            " 60  Garage Yr Blt    2771 non-null   float64\n",
            " 61  Garage Finish    2771 non-null   object \n",
            " 62  Garage Cars      2929 non-null   float64\n",
            " 63  Garage Area      2929 non-null   float64\n",
            " 64  Garage Qual      2771 non-null   object \n",
            " 65  Garage Cond      2771 non-null   object \n",
            " 66  Paved Drive      2930 non-null   object \n",
            " 67  Wood Deck SF     2930 non-null   int64  \n",
            " 68  Open Porch SF    2930 non-null   int64  \n",
            " 69  Enclosed Porch   2930 non-null   int64  \n",
            " 70  3Ssn Porch       2930 non-null   int64  \n",
            " 71  Screen Porch     2930 non-null   int64  \n",
            " 72  Pool Area        2930 non-null   int64  \n",
            " 73  Pool QC          13 non-null     object \n",
            " 74  Fence            572 non-null    object \n",
            " 75  Misc Feature     106 non-null    object \n",
            " 76  Misc Val         2930 non-null   int64  \n",
            " 77  Mo Sold          2930 non-null   int64  \n",
            " 78  Yr Sold          2930 non-null   int64  \n",
            " 79  Sale Type        2930 non-null   object \n",
            " 80  Sale Condition   2930 non-null   object \n",
            " 81  SalePrice        2930 non-null   int64  \n",
            "dtypes: float64(11), int64(28), object(43)\n",
            "memory usage: 1.8+ MB\n"
          ],
          "name": "stdout"
        }
      ]
    },
    {
      "cell_type": "code",
      "metadata": {
        "id": "YtrlGJeKjFcu",
        "colab": {
          "base_uri": "https://localhost:8080/",
          "height": 895
        },
        "outputId": "49632c72-cd22-49ee-c443-92783c783521"
      },
      "source": [
        "#splitting data into approx 50% for obtainning train and test data set\n",
        "# plotting the scatter plots between sale prices and 3 variables to understanding the dependency\n",
        "train = df[0:1460] \n",
        "test = df[1460:]\n",
        "fig = plt.figure(figsize=(7,15))\n",
        "ax1 = fig.add_subplot(3,1,1)\n",
        "ax2 = fig.add_subplot(3,1,2)\n",
        "ax3 = fig.add_subplot(3,1,3)\n",
        "\n",
        "train.plot(x=\"Garage Area\", y=\"SalePrice\", ax=ax1, kind=\"scatter\")\n",
        "train.plot(x=\"Gr Liv Area\", y=\"SalePrice\", ax=ax2, kind=\"scatter\")\n",
        "train.plot(x=\"Overall Cond\", y=\"SalePrice\", ax=ax3, kind=\"scatter\")\n"
      ],
      "execution_count": null,
      "outputs": [
        {
          "output_type": "execute_result",
          "data": {
            "text/plain": [
              "<matplotlib.axes._subplots.AxesSubplot at 0x7f7854b50810>"
            ]
          },
          "metadata": {
            "tags": []
          },
          "execution_count": 361
        },
        {
          "output_type": "display_data",
          "data": {
            "image/png": "[encoded data removed]",
            "text/plain": [
              "<Figure size 504x1080 with 3 Axes>"
            ]
          },
          "metadata": {
            "tags": [],
            "needs_background": "light"
          }
        }
      ]
    },
    {
      "cell_type": "code",
      "metadata": {
        "colab": {
          "base_uri": "https://localhost:8080/"
        },
        "id": "lfOhYG0em0Oz",
        "outputId": "030b054a-f04c-4b0e-cd21-79fcd89093cd"
      },
      "source": [
        "# From the last cell we can say that \"Gr Liv Area\" correlates most with the \"SalePrice\" column. \n",
        "#It can be confirmed by calculating correlation between pair of these columns.\n",
        "print(train[[\"Garage Area\", \"Gr Liv Area\", \"Overall Cond\", \"SalePrice\"]].corr())"
      ],
      "execution_count": null,
      "outputs": [
        {
          "output_type": "stream",
          "text": [
            "              Garage Area  Gr Liv Area  Overall Cond  SalePrice\n",
            "Garage Area      1.000000     0.465366     -0.132401   0.662397\n",
            "Gr Liv Area      0.465366     1.000000     -0.133710   0.698990\n",
            "Overall Cond    -0.132401    -0.133710      1.000000  -0.099395\n",
            "SalePrice        0.662397     0.698990     -0.099395   1.000000\n"
          ],
          "name": "stdout"
        }
      ]
    },
    {
      "cell_type": "markdown",
      "metadata": {
        "id": "lh_PTE4IgOM7"
      },
      "source": [
        "We will make the pipeline and try to improve as we move forwad to reduce RMSE values."
      ]
    },
    {
      "cell_type": "code",
      "metadata": {
        "id": "MZauQ1QuUtQJ",
        "colab": {
          "base_uri": "https://localhost:8080/"
        },
        "outputId": "c6281043-1e7a-4c7e-bc17-f007e57e1cf9"
      },
      "source": [
        "# making the pipeline which will be update as we will move forward to reduce the RMSE values\n",
        "\n",
        "def transform_features(df):\n",
        "  return (df)\n",
        "\n",
        "def select_features(df):\n",
        "  return df[[\"Gr Liv Area\", \"SalePrice\"]]# The reason of chossing Gr Liv area because of its corelation with sale price which is 0.69(Calucated on the above cell)\n",
        "\n",
        "def train_and_test(df):\n",
        "  train = df[0:1460] #splitting data into approx 50% for obtainning train and test data set\n",
        "  test = df[1460:]\n",
        "  \n",
        "  numeric_train = train.select_dtypes(include=[\"integer\",\"float\"])\n",
        "  numeric_test = test.select_dtypes(include=[\"integer\",\"float\"])\n",
        "  lr = linear_model.LinearRegression()\n",
        "  mse = mean_squared_error\n",
        "  # \n",
        "  features = numeric_train.columns.drop(\"SalePrice\")\n",
        "\n",
        "  lr.fit(train[features], train[\"SalePrice\"])\n",
        "\n",
        "  test_prediction = lr.predict(test[features])\n",
        "  \n",
        "  test_mse = mse(test_prediction, test[\"SalePrice\"])\n",
        "  test_rmse = np.sqrt(test_mse)\n",
        "  return test_rmse\n",
        "\n",
        "transform_df = transform_features(df)\n",
        "filtered_df = select_features(transform_df)\n",
        "train_and_test(filtered_df) "
      ],
      "execution_count": null,
      "outputs": [
        {
          "output_type": "execute_result",
          "data": {
            "text/plain": [
              "57088.25161263909"
            ]
          },
          "metadata": {
            "tags": []
          },
          "execution_count": 363
        }
      ]
    },
    {
      "cell_type": "markdown",
      "metadata": {
        "id": "Rosdzb6dzSmm"
      },
      "source": [
        "###Transform Feature\n",
        "\n",
        "1. From all columns dropping those columns with 5% or more missing value.\n",
        "2. Dropping text column with one or more missing values\n",
        "3. Filling the numerical columns with the most common value."
      ]
    },
    {
      "cell_type": "code",
      "metadata": {
        "id": "03ulh8qIwqha",
        "colab": {
          "base_uri": "https://localhost:8080/"
        },
        "outputId": "e4f5143f-83d4-4eee-9d4d-8547c71d600c"
      },
      "source": [
        "# From all columns dropping those columns with 5% or more missing value\n",
        "number_miss = df.isnull().sum()\n",
        "\n",
        "drop_missing_cols = number_miss[(number_miss > len(df)/20)].sort_values()\n",
        "df = df.drop(drop_missing_cols.index, axis=1)\n",
        "print(df.head())\n",
        "print(df.shape)"
      ],
      "execution_count": null,
      "outputs": [
        {
          "output_type": "stream",
          "text": [
            "   Order        PID  MS SubClass  ... Sale Type  Sale Condition SalePrice\n",
            "0      1  526301100           20  ...       WD           Normal    215000\n",
            "1      2  526350040           20  ...       WD           Normal    105000\n",
            "2      3  526351010           20  ...       WD           Normal    172000\n",
            "3      4  526353030           20  ...       WD           Normal    244000\n",
            "4      5  527105010           60  ...       WD           Normal    189900\n",
            "\n",
            "[5 rows x 71 columns]\n",
            "(2930, 71)\n"
          ],
          "name": "stdout"
        }
      ]
    },
    {
      "cell_type": "code",
      "metadata": {
        "colab": {
          "base_uri": "https://localhost:8080/"
        },
        "id": "zLe1tXZmCdlz",
        "outputId": "9372d288-d132-4352-b67c-3b8ae69b6e81"
      },
      "source": [
        "#Dropping text column with one or more missing values\n",
        "text_counts = df.select_dtypes(include = [\"object\"]).isnull().sum()\n",
        "text_counts = text_counts.sort_values()\n",
        "\n",
        "drop_missing_cols_2 = text_counts[text_counts>0]\n",
        "\n",
        "df= df.drop(drop_missing_cols_2.index, axis=1)\n",
        "df.shape"
      ],
      "execution_count": null,
      "outputs": [
        {
          "output_type": "execute_result",
          "data": {
            "text/plain": [
              "(2930, 64)"
            ]
          },
          "metadata": {
            "tags": []
          },
          "execution_count": 365
        }
      ]
    },
    {
      "cell_type": "markdown",
      "metadata": {
        "id": "R59QdZt0DlWr"
      },
      "source": [
        "3. "
      ]
    },
    {
      "cell_type": "code",
      "metadata": {
        "id": "GxCptD1sDlJU",
        "colab": {
          "base_uri": "https://localhost:8080/"
        },
        "outputId": "e863b099-0a0e-454f-8ed7-c90102fe0805"
      },
      "source": [
        "#Filling the numerical columns with the most common value\n",
        "num_missing = df.select_dtypes(include=[\"int\", \"float\"]).isnull().sum()\n",
        "fix_numcols = num_missing[(num_missing< len(df)*0.05) & (num_missing>0)].sort_values()\n",
        "fix_numcols"
      ],
      "execution_count": null,
      "outputs": [
        {
          "output_type": "execute_result",
          "data": {
            "text/plain": [
              "BsmtFin SF 1       1\n",
              "BsmtFin SF 2       1\n",
              "Bsmt Unf SF        1\n",
              "Total Bsmt SF      1\n",
              "Garage Cars        1\n",
              "Garage Area        1\n",
              "Bsmt Full Bath     2\n",
              "Bsmt Half Bath     2\n",
              "Mas Vnr Area      23\n",
              "dtype: int64"
            ]
          },
          "metadata": {
            "tags": []
          },
          "execution_count": 366
        }
      ]
    },
    {
      "cell_type": "code",
      "metadata": {
        "colab": {
          "base_uri": "https://localhost:8080/"
        },
        "id": "ZaTx43VLMXu-",
        "outputId": "02946e8b-33de-413f-e231-c3a7eef77a20"
      },
      "source": [
        "replace_values = df[fix_numcols.index].mode().to_dict(orient = \"records\")[0]\n",
        "replace_values"
      ],
      "execution_count": null,
      "outputs": [
        {
          "output_type": "execute_result",
          "data": {
            "text/plain": [
              "{'Bsmt Full Bath': 0.0,\n",
              " 'Bsmt Half Bath': 0.0,\n",
              " 'Bsmt Unf SF': 0.0,\n",
              " 'BsmtFin SF 1': 0.0,\n",
              " 'BsmtFin SF 2': 0.0,\n",
              " 'Garage Area': 0.0,\n",
              " 'Garage Cars': 2.0,\n",
              " 'Mas Vnr Area': 0.0,\n",
              " 'Total Bsmt SF': 0.0}"
            ]
          },
          "metadata": {
            "tags": []
          },
          "execution_count": 367
        }
      ]
    },
    {
      "cell_type": "code",
      "metadata": {
        "id": "i-6_kssGNFGc"
      },
      "source": [
        "df = df.fillna(replace_values)"
      ],
      "execution_count": null,
      "outputs": []
    },
    {
      "cell_type": "code",
      "metadata": {
        "colab": {
          "base_uri": "https://localhost:8080/"
        },
        "id": "0aJgB8xxNXwN",
        "outputId": "37bf380a-365e-403e-8542-dc346e6b60da"
      },
      "source": [
        "df.isnull().sum().value_counts()"
      ],
      "execution_count": null,
      "outputs": [
        {
          "output_type": "execute_result",
          "data": {
            "text/plain": [
              "0    64\n",
              "dtype: int64"
            ]
          },
          "metadata": {
            "tags": []
          },
          "execution_count": 369
        }
      ]
    },
    {
      "cell_type": "code",
      "metadata": {
        "id": "MNMEgWYVOL4G"
      },
      "source": [
        "#Data regarding specific years ('Year Remod/Add', 'Year Built', Yr sold) may not be usable for predecting the values\n",
        "#Although, calculating difference between the two columns may be of value\n",
        "yr_sold= df[\"Yr Sold\"] - df[\"Year Built\"]\n",
        "\n",
        "years_remod = df[\"Yr Sold\"] - df[\"Year Remod/Add\"]"
      ],
      "execution_count": null,
      "outputs": []
    },
    {
      "cell_type": "code",
      "metadata": {
        "colab": {
          "base_uri": "https://localhost:8080/"
        },
        "id": "wTqQmrqribgp",
        "outputId": "672beca0-76a9-40df-b1c5-701a5ec444aa"
      },
      "source": [
        "# Adding new column in the dataset with the name Years before sale\n",
        "df[\"Years Before Sale\"] = yr_sold\n",
        "df[\"Years Before Sale\"].value_counts().sort_index()[:3]"
      ],
      "execution_count": null,
      "outputs": [
        {
          "output_type": "execute_result",
          "data": {
            "text/plain": [
              "-1      1\n",
              " 0    116\n",
              " 1    218\n",
              "Name: Years Before Sale, dtype: int64"
            ]
          },
          "metadata": {
            "tags": []
          },
          "execution_count": 371
        }
      ]
    },
    {
      "cell_type": "code",
      "metadata": {
        "colab": {
          "base_uri": "https://localhost:8080/"
        },
        "id": "Szz4BnjhjSmR",
        "outputId": "6c93f045-e401-4a9a-c27a-63082e62ea69"
      },
      "source": [
        "df[\"Years Before Sale\"][df[\"Years Before Sale\"]<0]"
      ],
      "execution_count": null,
      "outputs": [
        {
          "output_type": "execute_result",
          "data": {
            "text/plain": [
              "2180   -1\n",
              "Name: Years Before Sale, dtype: int64"
            ]
          },
          "metadata": {
            "tags": []
          },
          "execution_count": 372
        }
      ]
    },
    {
      "cell_type": "code",
      "metadata": {
        "id": "GZQhrc_okayA"
      },
      "source": [
        "# dropping this values as it may be a wrong value\n",
        "df = df.drop([2180],axis=0)"
      ],
      "execution_count": null,
      "outputs": []
    },
    {
      "cell_type": "code",
      "metadata": {
        "colab": {
          "base_uri": "https://localhost:8080/"
        },
        "id": "y066nq-MgdOS",
        "outputId": "3e11a6e5-5e96-4854-dba5-3d9ac808ca0e"
      },
      "source": [
        "# Adding new column in the dataset with the name Years remod\n",
        "df[\"Years Remod\"] = years_remod\n",
        "df[\"Years Remod\"].value_counts().sort_index()[:8]\n"
      ],
      "execution_count": null,
      "outputs": [
        {
          "output_type": "execute_result",
          "data": {
            "text/plain": [
              "-1      2\n",
              " 0    238\n",
              " 1    193\n",
              " 2    104\n",
              " 3     97\n",
              " 4    111\n",
              " 5     91\n",
              " 6     83\n",
              "Name: Years Remod, dtype: int64"
            ]
          },
          "metadata": {
            "tags": []
          },
          "execution_count": 374
        }
      ]
    },
    {
      "cell_type": "code",
      "metadata": {
        "colab": {
          "base_uri": "https://localhost:8080/"
        },
        "id": "xsr2gAd3eXlA",
        "outputId": "6da433af-6e6a-4635-d909-3f4eef5c3434"
      },
      "source": [
        "df[\"Years Remod\"][df[\"Years Remod\"]<0]"
      ],
      "execution_count": null,
      "outputs": [
        {
          "output_type": "execute_result",
          "data": {
            "text/plain": [
              "1702   -1\n",
              "2181   -1\n",
              "Name: Years Remod, dtype: int64"
            ]
          },
          "metadata": {
            "tags": []
          },
          "execution_count": 375
        }
      ]
    },
    {
      "cell_type": "code",
      "metadata": {
        "id": "sWFGeoyVk1YW"
      },
      "source": [
        "# dropping this values as it may be a wrong value\n",
        "df = df.drop([1702,2181], axis=0)"
      ],
      "execution_count": null,
      "outputs": []
    },
    {
      "cell_type": "code",
      "metadata": {
        "colab": {
          "base_uri": "https://localhost:8080/"
        },
        "id": "jV7pBF40k1iQ",
        "outputId": "f416dd38-652c-448a-d3cc-2f44a1d0a5e2"
      },
      "source": [
        "df = df.drop([\"Year Built\", \"Year Remod/Add\", \"Yr Sold\"], axis=1)\n",
        "\n",
        "df.shape"
      ],
      "execution_count": null,
      "outputs": [
        {
          "output_type": "execute_result",
          "data": {
            "text/plain": [
              "(2927, 63)"
            ]
          },
          "metadata": {
            "tags": []
          },
          "execution_count": 377
        }
      ]
    },
    {
      "cell_type": "code",
      "metadata": {
        "colab": {
          "base_uri": "https://localhost:8080/",
          "height": 182
        },
        "id": "ABhHvn9Al3iv",
        "outputId": "7f7ca172-d0d3-4e10-eed7-a0ffb0643522"
      },
      "source": [
        "df.head(2)"
      ],
      "execution_count": null,
      "outputs": [
        {
          "output_type": "execute_result",
          "data": {
            "text/html": [
              "<div>\n",
              "<style scoped>\n",
              "    .dataframe tbody tr th:only-of-type {\n",
              "        vertical-align: middle;\n",
              "    }\n",
              "\n",
              "    .dataframe tbody tr th {\n",
              "        vertical-align: top;\n",
              "    }\n",
              "\n",
              "    .dataframe thead th {\n",
              "        text-align: right;\n",
              "    }\n",
              "</style>\n",
              "<table border=\"1\" class=\"dataframe\">\n",
              "  <thead>\n",
              "    <tr style=\"text-align: right;\">\n",
              "      <th></th>\n",
              "      <th>Order</th>\n",
              "      <th>PID</th>\n",
              "      <th>MS SubClass</th>\n",
              "      <th>MS Zoning</th>\n",
              "      <th>Lot Area</th>\n",
              "      <th>Street</th>\n",
              "      <th>Lot Shape</th>\n",
              "      <th>Land Contour</th>\n",
              "      <th>Utilities</th>\n",
              "      <th>Lot Config</th>\n",
              "      <th>Land Slope</th>\n",
              "      <th>Neighborhood</th>\n",
              "      <th>Condition 1</th>\n",
              "      <th>Condition 2</th>\n",
              "      <th>Bldg Type</th>\n",
              "      <th>House Style</th>\n",
              "      <th>Overall Qual</th>\n",
              "      <th>Overall Cond</th>\n",
              "      <th>Roof Style</th>\n",
              "      <th>Roof Matl</th>\n",
              "      <th>Exterior 1st</th>\n",
              "      <th>Exterior 2nd</th>\n",
              "      <th>Mas Vnr Area</th>\n",
              "      <th>Exter Qual</th>\n",
              "      <th>Exter Cond</th>\n",
              "      <th>Foundation</th>\n",
              "      <th>BsmtFin SF 1</th>\n",
              "      <th>BsmtFin SF 2</th>\n",
              "      <th>Bsmt Unf SF</th>\n",
              "      <th>Total Bsmt SF</th>\n",
              "      <th>Heating</th>\n",
              "      <th>Heating QC</th>\n",
              "      <th>Central Air</th>\n",
              "      <th>1st Flr SF</th>\n",
              "      <th>2nd Flr SF</th>\n",
              "      <th>Low Qual Fin SF</th>\n",
              "      <th>Gr Liv Area</th>\n",
              "      <th>Bsmt Full Bath</th>\n",
              "      <th>Bsmt Half Bath</th>\n",
              "      <th>Full Bath</th>\n",
              "      <th>Half Bath</th>\n",
              "      <th>Bedroom AbvGr</th>\n",
              "      <th>Kitchen AbvGr</th>\n",
              "      <th>Kitchen Qual</th>\n",
              "      <th>TotRms AbvGrd</th>\n",
              "      <th>Functional</th>\n",
              "      <th>Fireplaces</th>\n",
              "      <th>Garage Cars</th>\n",
              "      <th>Garage Area</th>\n",
              "      <th>Paved Drive</th>\n",
              "      <th>Wood Deck SF</th>\n",
              "      <th>Open Porch SF</th>\n",
              "      <th>Enclosed Porch</th>\n",
              "      <th>3Ssn Porch</th>\n",
              "      <th>Screen Porch</th>\n",
              "      <th>Pool Area</th>\n",
              "      <th>Misc Val</th>\n",
              "      <th>Mo Sold</th>\n",
              "      <th>Sale Type</th>\n",
              "      <th>Sale Condition</th>\n",
              "      <th>SalePrice</th>\n",
              "      <th>Years Before Sale</th>\n",
              "      <th>Years Remod</th>\n",
              "    </tr>\n",
              "  </thead>\n",
              "  <tbody>\n",
              "    <tr>\n",
              "      <th>0</th>\n",
              "      <td>1</td>\n",
              "      <td>526301100</td>\n",
              "      <td>20</td>\n",
              "      <td>RL</td>\n",
              "      <td>31770</td>\n",
              "      <td>Pave</td>\n",
              "      <td>IR1</td>\n",
              "      <td>Lvl</td>\n",
              "      <td>AllPub</td>\n",
              "      <td>Corner</td>\n",
              "      <td>Gtl</td>\n",
              "      <td>NAmes</td>\n",
              "      <td>Norm</td>\n",
              "      <td>Norm</td>\n",
              "      <td>1Fam</td>\n",
              "      <td>1Story</td>\n",
              "      <td>6</td>\n",
              "      <td>5</td>\n",
              "      <td>Hip</td>\n",
              "      <td>CompShg</td>\n",
              "      <td>BrkFace</td>\n",
              "      <td>Plywood</td>\n",
              "      <td>112.0</td>\n",
              "      <td>TA</td>\n",
              "      <td>TA</td>\n",
              "      <td>CBlock</td>\n",
              "      <td>639.0</td>\n",
              "      <td>0.0</td>\n",
              "      <td>441.0</td>\n",
              "      <td>1080.0</td>\n",
              "      <td>GasA</td>\n",
              "      <td>Fa</td>\n",
              "      <td>Y</td>\n",
              "      <td>1656</td>\n",
              "      <td>0</td>\n",
              "      <td>0</td>\n",
              "      <td>1656</td>\n",
              "      <td>1.0</td>\n",
              "      <td>0.0</td>\n",
              "      <td>1</td>\n",
              "      <td>0</td>\n",
              "      <td>3</td>\n",
              "      <td>1</td>\n",
              "      <td>TA</td>\n",
              "      <td>7</td>\n",
              "      <td>Typ</td>\n",
              "      <td>2</td>\n",
              "      <td>2.0</td>\n",
              "      <td>528.0</td>\n",
              "      <td>P</td>\n",
              "      <td>210</td>\n",
              "      <td>62</td>\n",
              "      <td>0</td>\n",
              "      <td>0</td>\n",
              "      <td>0</td>\n",
              "      <td>0</td>\n",
              "      <td>0</td>\n",
              "      <td>5</td>\n",
              "      <td>WD</td>\n",
              "      <td>Normal</td>\n",
              "      <td>215000</td>\n",
              "      <td>50</td>\n",
              "      <td>50</td>\n",
              "    </tr>\n",
              "    <tr>\n",
              "      <th>1</th>\n",
              "      <td>2</td>\n",
              "      <td>526350040</td>\n",
              "      <td>20</td>\n",
              "      <td>RH</td>\n",
              "      <td>11622</td>\n",
              "      <td>Pave</td>\n",
              "      <td>Reg</td>\n",
              "      <td>Lvl</td>\n",
              "      <td>AllPub</td>\n",
              "      <td>Inside</td>\n",
              "      <td>Gtl</td>\n",
              "      <td>NAmes</td>\n",
              "      <td>Feedr</td>\n",
              "      <td>Norm</td>\n",
              "      <td>1Fam</td>\n",
              "      <td>1Story</td>\n",
              "      <td>5</td>\n",
              "      <td>6</td>\n",
              "      <td>Gable</td>\n",
              "      <td>CompShg</td>\n",
              "      <td>VinylSd</td>\n",
              "      <td>VinylSd</td>\n",
              "      <td>0.0</td>\n",
              "      <td>TA</td>\n",
              "      <td>TA</td>\n",
              "      <td>CBlock</td>\n",
              "      <td>468.0</td>\n",
              "      <td>144.0</td>\n",
              "      <td>270.0</td>\n",
              "      <td>882.0</td>\n",
              "      <td>GasA</td>\n",
              "      <td>TA</td>\n",
              "      <td>Y</td>\n",
              "      <td>896</td>\n",
              "      <td>0</td>\n",
              "      <td>0</td>\n",
              "      <td>896</td>\n",
              "      <td>0.0</td>\n",
              "      <td>0.0</td>\n",
              "      <td>1</td>\n",
              "      <td>0</td>\n",
              "      <td>2</td>\n",
              "      <td>1</td>\n",
              "      <td>TA</td>\n",
              "      <td>5</td>\n",
              "      <td>Typ</td>\n",
              "      <td>0</td>\n",
              "      <td>1.0</td>\n",
              "      <td>730.0</td>\n",
              "      <td>Y</td>\n",
              "      <td>140</td>\n",
              "      <td>0</td>\n",
              "      <td>0</td>\n",
              "      <td>0</td>\n",
              "      <td>120</td>\n",
              "      <td>0</td>\n",
              "      <td>0</td>\n",
              "      <td>6</td>\n",
              "      <td>WD</td>\n",
              "      <td>Normal</td>\n",
              "      <td>105000</td>\n",
              "      <td>49</td>\n",
              "      <td>49</td>\n",
              "    </tr>\n",
              "  </tbody>\n",
              "</table>\n",
              "</div>"
            ],
            "text/plain": [
              "   Order        PID  MS SubClass  ... SalePrice  Years Before Sale Years Remod\n",
              "0      1  526301100           20  ...    215000                 50          50\n",
              "1      2  526350040           20  ...    105000                 49          49\n",
              "\n",
              "[2 rows x 63 columns]"
            ]
          },
          "metadata": {
            "tags": []
          },
          "execution_count": 378
        }
      ]
    },
    {
      "cell_type": "code",
      "metadata": {
        "colab": {
          "base_uri": "https://localhost:8080/"
        },
        "id": "XYlkVYivmK-r",
        "outputId": "6e502c8a-27b1-42f9-a54e-f7f590bb01eb"
      },
      "source": [
        "# Dropping those column which are of no use \n",
        "# also those columns which leaks data related to final sale\n",
        "df = df.drop([\"Order\", \"PID\"], axis = 1)\n",
        "\n",
        "\n",
        "df = df.drop([\"Mo Sold\", \"Sale Type\", \"Sale Condition\"],axis=1)\n",
        "\n",
        "print(df.shape)\n",
        "print(df.head(2))"
      ],
      "execution_count": null,
      "outputs": [
        {
          "output_type": "stream",
          "text": [
            "(2927, 58)\n",
            "   MS SubClass MS Zoning  Lot Area  ... SalePrice Years Before Sale Years Remod\n",
            "0           20        RL     31770  ...    215000                50          50\n",
            "1           20        RH     11622  ...    105000                49          49\n",
            "\n",
            "[2 rows x 58 columns]\n"
          ],
          "name": "stdout"
        }
      ]
    },
    {
      "cell_type": "code",
      "metadata": {
        "colab": {
          "base_uri": "https://localhost:8080/",
          "height": 297
        },
        "id": "wJOcLrlRngJw",
        "outputId": "b0a1e4cd-1dcd-4da3-af0c-0641d764a7f1"
      },
      "source": [
        "# elimnating 1 observations which correspond to unusual sales, sales of houses of more than 5000 square meters\n",
        "plt.scatter(df[\"Gr Liv Area\"], df[\"SalePrice\"])\n",
        "plt.xlabel(\"Gr Liv Area\")\n",
        "plt.ylabel(\"SalePrice\")"
      ],
      "execution_count": null,
      "outputs": [
        {
          "output_type": "execute_result",
          "data": {
            "text/plain": [
              "Text(0, 0.5, 'SalePrice')"
            ]
          },
          "metadata": {
            "tags": []
          },
          "execution_count": 380
        },
        {
          "output_type": "display_data",
          "data": {
            "image/png": "[encoded data removed]",
            "text/plain": [
              "<Figure size 432x288 with 1 Axes>"
            ]
          },
          "metadata": {
            "tags": [],
            "needs_background": "light"
          }
        }
      ]
    },
    {
      "cell_type": "code",
      "metadata": {
        "colab": {
          "base_uri": "https://localhost:8080/",
          "height": 297
        },
        "id": "CGkJ_Hwpo4n8",
        "outputId": "d98e3c80-6724-47d1-84f2-a81ae67ce0a5"
      },
      "source": [
        "wrong_rows = df[df[\"Gr Liv Area\"]>5000]\n",
        "\n",
        "df= df.drop(wrong_rows.index, axis=0)\n",
        "\n",
        "plt.scatter(df[\"Gr Liv Area\"], df[\"SalePrice\"])\n",
        "plt.xlabel(\"Gr Liv Area\")\n",
        "plt.ylabel(\"SalePrice\")\n",
        "plt.show()\n",
        "df.shape"
      ],
      "execution_count": null,
      "outputs": [
        {
          "output_type": "display_data",
          "data": {
            "image/png": "[encoded data removed]",
            "text/plain": [
              "<Figure size 432x288 with 1 Axes>"
            ]
          },
          "metadata": {
            "tags": [],
            "needs_background": "light"
          }
        },
        {
          "output_type": "execute_result",
          "data": {
            "text/plain": [
              "(2926, 58)"
            ]
          },
          "metadata": {
            "tags": []
          },
          "execution_count": 381
        }
      ]
    },
    {
      "cell_type": "code",
      "metadata": {
        "id": "E85gmCGipPEo",
        "colab": {
          "base_uri": "https://localhost:8080/"
        },
        "outputId": "7f45e5f1-3de8-4fb2-8738-73e6f8be1272"
      },
      "source": [
        "def transform_features(df):\n",
        "\n",
        "  # From all columns dropping those columns with 5% or more missing value\n",
        "  number_miss = df.isnull().sum()\n",
        "  drop_missing_cols = number_miss[(number_miss > len(df)/20)].sort_values()\n",
        "  df = df.drop(drop_missing_cols.index, axis=1)\n",
        "\n",
        "  #Dropping text column with one or more missing values\n",
        "  text_counts = df.select_dtypes(include = [\"object\"]).isnull().sum()\n",
        "  text_counts = text_counts.sort_values()\n",
        "  drop_missing_cols_2 = text_counts[text_counts>0]\n",
        "  df= df.drop(drop_missing_cols_2.index, axis=1)\n",
        "\n",
        "  #Filling the numerical columns with the most common value\n",
        "  num_missing = df.select_dtypes(include=[\"int\", \"float\"]).isnull().sum()\n",
        "  fix_numcols = num_missing[(num_missing< len(df)*0.05) & (num_missing>0)].sort_values()\n",
        "  replace_values = df[fix_numcols.index].mode().to_dict(orient = \"records\")[0]\n",
        "  df = df.fillna(replace_values)\n",
        "  \n",
        "\n",
        "  #Data regarding specific years ('Year Remod/Add', 'Year Built', Yr sold) may not be usable for predecting the values\n",
        "  #Although, calculating difference between the two columns may be of value\n",
        "  yr_sold= df[\"Yr Sold\"] - df[\"Year Built\"]\n",
        "  years_remod = df[\"Yr Sold\"] - df[\"Year Remod/Add\"]\n",
        "  df[\"Years Remod\"] = years_remod\n",
        "  df[\"Years Before Sale\"] = yr_sold\n",
        "  df = df.drop([2180],axis=0)\n",
        "  \n",
        "  \n",
        "\n",
        "  df = df.drop([1702,2181], axis=0)\n",
        "  df = df.drop([\"Year Built\", \"Year Remod/Add\"], axis=1)\n",
        "  df = df.drop([\"Order\", \"PID\"], axis = 1)\n",
        "  df = df.drop([\"Mo Sold\", \"Sale Type\", \"Sale Condition\"],axis=1)\n",
        "\n",
        "  # elimnating 1 observations which correspond to unusual sales, sales of houses of more than 5000 square meters\n",
        "  wrong_rows = df[df[\"Gr Liv Area\"]>5000]\n",
        "  df= df.drop(wrong_rows.index, axis=0)\n",
        "\n",
        "  return df\n",
        "\n",
        "def select_features(df):\n",
        "  return df[[\"Gr Liv Area\", \"SalePrice\"]]# The reason of chossing Gr Liv area because of its corelation with sale price which is 0.69(Calucated on the above cell)\n",
        "\n",
        "def train_and_test(df):\n",
        "  train = df[0:1460] #splitting data into approx 50% for obtainning train and test data set\n",
        "  test = df[1460:]\n",
        "  \n",
        "  numeric_train = train.select_dtypes(include=[\"integer\",\"float\"])\n",
        "  numeric_test = test.select_dtypes(include=[\"integer\",\"float\"])\n",
        "  lr = linear_model.LinearRegression()\n",
        "  mse = mean_squared_error\n",
        "  # \n",
        "  features = numeric_train.columns.drop(\"SalePrice\")\n",
        "\n",
        "  lr.fit(train[features], train[\"SalePrice\"])\n",
        "\n",
        "  test_prediction = lr.predict(test[features])\n",
        "  \n",
        "  test_mse = mse(test_prediction, test[\"SalePrice\"])\n",
        "  test_rmse = np.sqrt(test_mse)\n",
        "  return test_rmse\n",
        "\n",
        "df = pd.read_csv(\"/content/drive/MyDrive/AmesHousing.csv\")#read again original dataframe for avoiding previous modifications\n",
        "transform_df = transform_features(df)\n",
        "filtered_df = select_features(transform_df)\n",
        "train_and_test(filtered_df) "
      ],
      "execution_count": null,
      "outputs": [
        {
          "output_type": "execute_result",
          "data": {
            "text/plain": [
              "53699.89964002601"
            ]
          },
          "metadata": {
            "tags": []
          },
          "execution_count": 404
        }
      ]
    },
    {
      "cell_type": "markdown",
      "metadata": {
        "id": "xHsI1zSNPtzc"
      },
      "source": [
        "So after cleaning data we wre able to see the reduction in the RMSE\n",
        "\n",
        "Now reducing the RMSE values more we need to operate on features"
      ]
    },
    {
      "cell_type": "code",
      "metadata": {
        "colab": {
          "base_uri": "https://localhost:8080/",
          "height": 182
        },
        "id": "ksC7iV132lNd",
        "outputId": "a26470a1-ae20-436e-8c7f-1360f378e674"
      },
      "source": [
        "# generating only num columns persent in the dataset\n",
        "num_df = transform_df.select_dtypes(include=[\"int\",\"float\"])\n",
        "num_df.head(2)"
      ],
      "execution_count": null,
      "outputs": [
        {
          "output_type": "execute_result",
          "data": {
            "text/html": [
              "<div>\n",
              "<style scoped>\n",
              "    .dataframe tbody tr th:only-of-type {\n",
              "        vertical-align: middle;\n",
              "    }\n",
              "\n",
              "    .dataframe tbody tr th {\n",
              "        vertical-align: top;\n",
              "    }\n",
              "\n",
              "    .dataframe thead th {\n",
              "        text-align: right;\n",
              "    }\n",
              "</style>\n",
              "<table border=\"1\" class=\"dataframe\">\n",
              "  <thead>\n",
              "    <tr style=\"text-align: right;\">\n",
              "      <th></th>\n",
              "      <th>MS SubClass</th>\n",
              "      <th>Lot Area</th>\n",
              "      <th>Overall Qual</th>\n",
              "      <th>Overall Cond</th>\n",
              "      <th>Mas Vnr Area</th>\n",
              "      <th>BsmtFin SF 1</th>\n",
              "      <th>BsmtFin SF 2</th>\n",
              "      <th>Bsmt Unf SF</th>\n",
              "      <th>Total Bsmt SF</th>\n",
              "      <th>1st Flr SF</th>\n",
              "      <th>2nd Flr SF</th>\n",
              "      <th>Low Qual Fin SF</th>\n",
              "      <th>Gr Liv Area</th>\n",
              "      <th>Bsmt Full Bath</th>\n",
              "      <th>Bsmt Half Bath</th>\n",
              "      <th>Full Bath</th>\n",
              "      <th>Half Bath</th>\n",
              "      <th>Bedroom AbvGr</th>\n",
              "      <th>Kitchen AbvGr</th>\n",
              "      <th>TotRms AbvGrd</th>\n",
              "      <th>Fireplaces</th>\n",
              "      <th>Garage Cars</th>\n",
              "      <th>Garage Area</th>\n",
              "      <th>Wood Deck SF</th>\n",
              "      <th>Open Porch SF</th>\n",
              "      <th>Enclosed Porch</th>\n",
              "      <th>3Ssn Porch</th>\n",
              "      <th>Screen Porch</th>\n",
              "      <th>Pool Area</th>\n",
              "      <th>Misc Val</th>\n",
              "      <th>SalePrice</th>\n",
              "      <th>Years Remod</th>\n",
              "      <th>Years Before Sale</th>\n",
              "    </tr>\n",
              "  </thead>\n",
              "  <tbody>\n",
              "    <tr>\n",
              "      <th>0</th>\n",
              "      <td>20</td>\n",
              "      <td>31770</td>\n",
              "      <td>6</td>\n",
              "      <td>5</td>\n",
              "      <td>112.0</td>\n",
              "      <td>639.0</td>\n",
              "      <td>0.0</td>\n",
              "      <td>441.0</td>\n",
              "      <td>1080.0</td>\n",
              "      <td>1656</td>\n",
              "      <td>0</td>\n",
              "      <td>0</td>\n",
              "      <td>1656</td>\n",
              "      <td>1.0</td>\n",
              "      <td>0.0</td>\n",
              "      <td>1</td>\n",
              "      <td>0</td>\n",
              "      <td>3</td>\n",
              "      <td>1</td>\n",
              "      <td>7</td>\n",
              "      <td>2</td>\n",
              "      <td>2.0</td>\n",
              "      <td>528.0</td>\n",
              "      <td>210</td>\n",
              "      <td>62</td>\n",
              "      <td>0</td>\n",
              "      <td>0</td>\n",
              "      <td>0</td>\n",
              "      <td>0</td>\n",
              "      <td>0</td>\n",
              "      <td>215000</td>\n",
              "      <td>50</td>\n",
              "      <td>50</td>\n",
              "    </tr>\n",
              "    <tr>\n",
              "      <th>1</th>\n",
              "      <td>20</td>\n",
              "      <td>11622</td>\n",
              "      <td>5</td>\n",
              "      <td>6</td>\n",
              "      <td>0.0</td>\n",
              "      <td>468.0</td>\n",
              "      <td>144.0</td>\n",
              "      <td>270.0</td>\n",
              "      <td>882.0</td>\n",
              "      <td>896</td>\n",
              "      <td>0</td>\n",
              "      <td>0</td>\n",
              "      <td>896</td>\n",
              "      <td>0.0</td>\n",
              "      <td>0.0</td>\n",
              "      <td>1</td>\n",
              "      <td>0</td>\n",
              "      <td>2</td>\n",
              "      <td>1</td>\n",
              "      <td>5</td>\n",
              "      <td>0</td>\n",
              "      <td>1.0</td>\n",
              "      <td>730.0</td>\n",
              "      <td>140</td>\n",
              "      <td>0</td>\n",
              "      <td>0</td>\n",
              "      <td>0</td>\n",
              "      <td>120</td>\n",
              "      <td>0</td>\n",
              "      <td>0</td>\n",
              "      <td>105000</td>\n",
              "      <td>49</td>\n",
              "      <td>49</td>\n",
              "    </tr>\n",
              "  </tbody>\n",
              "</table>\n",
              "</div>"
            ],
            "text/plain": [
              "   MS SubClass  Lot Area  ...  Years Remod  Years Before Sale\n",
              "0           20     31770  ...           50                 50\n",
              "1           20     11622  ...           49                 49\n",
              "\n",
              "[2 rows x 33 columns]"
            ]
          },
          "metadata": {
            "tags": []
          },
          "execution_count": 383
        }
      ]
    },
    {
      "cell_type": "code",
      "metadata": {
        "colab": {
          "base_uri": "https://localhost:8080/",
          "height": 580
        },
        "id": "y2SHaSkq_S0b",
        "outputId": "1ba3044a-e6a2-4894-d7ca-1ca6c4f5a134"
      },
      "source": [
        "#now looking heatmap to understand abot the corelation of sale price with the other numerical columns\n",
        "import seaborn as sns\n",
        "corr_matrix = num_df.corr()\n",
        "plt.figure(figsize=(8,8))\n",
        "sns.heatmap(corr_matrix)\n",
        "plt.show"
      ],
      "execution_count": null,
      "outputs": [
        {
          "output_type": "execute_result",
          "data": {
            "text/plain": [
              "<function matplotlib.pyplot.show>"
            ]
          },
          "metadata": {
            "tags": []
          },
          "execution_count": 384
        },
        {
          "output_type": "display_data",
          "data": {
            "image/png": "[encoded data removed]",
            "text/plain": [
              "<Figure size 576x576 with 2 Axes>"
            ]
          },
          "metadata": {
            "tags": [],
            "needs_background": "light"
          }
        }
      ]
    },
    {
      "cell_type": "code",
      "metadata": {
        "colab": {
          "base_uri": "https://localhost:8080/"
        },
        "id": "TQoNQfR--lCG",
        "outputId": "857df6d3-a24a-4433-e74f-72243e07a290"
      },
      "source": [
        "#getting numerical corelation values\n",
        "abs_corr = num_df.corr()[\"SalePrice\"].abs().sort_values()\n",
        "abs_corr"
      ],
      "execution_count": null,
      "outputs": [
        {
          "output_type": "execute_result",
          "data": {
            "text/plain": [
              "BsmtFin SF 2         0.006101\n",
              "Misc Val             0.019282\n",
              "3Ssn Porch           0.032260\n",
              "Bsmt Half Bath       0.035898\n",
              "Low Qual Fin SF      0.037639\n",
              "Pool Area            0.071877\n",
              "MS SubClass          0.085123\n",
              "Overall Cond         0.101591\n",
              "Screen Porch         0.112258\n",
              "Kitchen AbvGr        0.119781\n",
              "Enclosed Porch       0.128721\n",
              "Bedroom AbvGr        0.143934\n",
              "Bsmt Unf SF          0.182736\n",
              "2nd Flr SF           0.269827\n",
              "Lot Area             0.270311\n",
              "Bsmt Full Bath       0.276950\n",
              "Half Bath            0.285058\n",
              "Open Porch SF        0.317330\n",
              "Wood Deck SF         0.328323\n",
              "BsmtFin SF 1         0.450753\n",
              "Fireplaces           0.476286\n",
              "TotRms AbvGrd        0.499978\n",
              "Mas Vnr Area         0.508681\n",
              "Years Remod          0.535209\n",
              "Full Bath            0.546252\n",
              "Years Before Sale    0.559231\n",
              "Garage Area          0.643963\n",
              "1st Flr SF           0.645455\n",
              "Garage Cars          0.648407\n",
              "Total Bsmt SF        0.660673\n",
              "Gr Liv Area          0.727013\n",
              "Overall Qual         0.802520\n",
              "SalePrice            1.000000\n",
              "Name: SalePrice, dtype: float64"
            ]
          },
          "metadata": {
            "tags": []
          },
          "execution_count": 385
        }
      ]
    },
    {
      "cell_type": "code",
      "metadata": {
        "colab": {
          "base_uri": "https://localhost:8080/"
        },
        "id": "yyaeHM9NAH0o",
        "outputId": "539ca70a-dae6-4b6e-aabd-9ce0391c5520"
      },
      "source": [
        "#finding the columns which having corelation values smaller than 0.5\n",
        "abs_corr[abs_corr>0.5]"
      ],
      "execution_count": null,
      "outputs": [
        {
          "output_type": "execute_result",
          "data": {
            "text/plain": [
              "Mas Vnr Area         0.508681\n",
              "Years Remod          0.535209\n",
              "Full Bath            0.546252\n",
              "Years Before Sale    0.559231\n",
              "Garage Area          0.643963\n",
              "1st Flr SF           0.645455\n",
              "Garage Cars          0.648407\n",
              "Total Bsmt SF        0.660673\n",
              "Gr Liv Area          0.727013\n",
              "Overall Qual         0.802520\n",
              "SalePrice            1.000000\n",
              "Name: SalePrice, dtype: float64"
            ]
          },
          "metadata": {
            "tags": []
          },
          "execution_count": 386
        }
      ]
    },
    {
      "cell_type": "code",
      "metadata": {
        "colab": {
          "base_uri": "https://localhost:8080/"
        },
        "id": "RFFIpngbAwvr",
        "outputId": "b364dd92-a487-4ea2-fe6c-3dda5d29f198"
      },
      "source": [
        "#dropping the columns which having corelation values smaller than 0.5\n",
        "transform_df = transform_df.drop(abs_corr[abs_corr <0.5].index, axis = 1)\n",
        "print(transform_df.head(2))"
      ],
      "execution_count": null,
      "outputs": [
        {
          "output_type": "stream",
          "text": [
            "  MS Zoning Street Lot Shape  ... SalePrice Years Remod Years Before Sale\n",
            "0        RL   Pave       IR1  ...    215000          50                50\n",
            "1        RH   Pave       Reg  ...    105000          49                49\n",
            "\n",
            "[2 rows x 36 columns]\n"
          ],
          "name": "stdout"
        }
      ]
    },
    {
      "cell_type": "code",
      "metadata": {
        "colab": {
          "base_uri": "https://localhost:8080/"
        },
        "id": "LRbbhUh1DAxF",
        "outputId": "ce2b999d-1515-4f28-b079-b5c15e890d2a"
      },
      "source": [
        "transform_df.columns"
      ],
      "execution_count": null,
      "outputs": [
        {
          "output_type": "execute_result",
          "data": {
            "text/plain": [
              "Index(['MS Zoning', 'Street', 'Lot Shape', 'Land Contour', 'Utilities',\n",
              "       'Lot Config', 'Land Slope', 'Neighborhood', 'Condition 1',\n",
              "       'Condition 2', 'Bldg Type', 'House Style', 'Overall Qual', 'Roof Style',\n",
              "       'Roof Matl', 'Exterior 1st', 'Exterior 2nd', 'Mas Vnr Area',\n",
              "       'Exter Qual', 'Exter Cond', 'Foundation', 'Total Bsmt SF', 'Heating',\n",
              "       'Heating QC', 'Central Air', '1st Flr SF', 'Gr Liv Area', 'Full Bath',\n",
              "       'Kitchen Qual', 'Functional', 'Garage Cars', 'Garage Area',\n",
              "       'Paved Drive', 'SalePrice', 'Years Remod', 'Years Before Sale'],\n",
              "      dtype='object')"
            ]
          },
          "metadata": {
            "tags": []
          },
          "execution_count": 388
        }
      ]
    },
    {
      "cell_type": "code",
      "metadata": {
        "id": "XIURruHWEu2o"
      },
      "source": [
        "nominal_features = ['MS Zoning', 'Street', 'Lot Shape', 'Land Contour', 'Utilities', 'Lot Config', 'Land Slope', 'Neighborhood', 'Condition 1', 'Condition 2', 'Bldg Type', 'House Style', 'Overall Qual', 'Roof Style',\n",
        "       'Roof Matl', 'Exterior 1st', 'Exterior 2nd', 'Mas Vnr Area', 'Exter Qual', 'Exter Cond', 'Foundation', 'Total Bsmt SF', 'Heating', 'Heating QC', 'Central Air', '1st Flr SF', 'Gr Liv Area', 'Full Bath',\n",
        "       'Kitchen Qual', 'Functional', 'Garage Cars', 'Garage Area', 'Paved Drive', 'Years Remod', 'Years Before Sale']"
      ],
      "execution_count": null,
      "outputs": []
    },
    {
      "cell_type": "code",
      "metadata": {
        "id": "8YBC1N39Fiae"
      },
      "source": [
        "# Which categorical columns have we still carried with us? We'll test these\n",
        "transform_cat_columns = []\n",
        "for col in nominal_features:\n",
        "  if col in transform_df.columns:\n",
        "    transform_cat_columns.append(col)\n",
        "\n",
        "# How many unique values in each categorical column?\n",
        "uniquness_count = transform_df[transform_cat_columns].apply(lambda col: len(col.value_counts())).sort_values()\n",
        "\n",
        "# Aribtrary cutoff of 10 unique values (worth experimenting)\n",
        "drop_nonuniq_cols = uniquness_count[uniquness_count > 10].index\n",
        "transform_df = transform_df.drop(drop_nonuniq_cols, axis=1)"
      ],
      "execution_count": null,
      "outputs": []
    },
    {
      "cell_type": "code",
      "metadata": {
        "id": "3kE5R8QuHFs8"
      },
      "source": [
        "# Select just the remaining text columns and convert to categorical\n",
        "text_cols = transform_df.select_dtypes(include = [\"object\"])\n",
        "for col in text_cols:\n",
        "  transform_df[col] = transform_df[col].astype(\"category\")\n",
        "\n",
        "# Create dummy columns and add back to the dataframe\n",
        "transform_df = pd.concat([transform_df, pd.get_dummies(transform_df.select_dtypes(include=[\"category\"]))],axis=1)\n",
        "transform_df = transform_df.drop(text_cols, axis=1)\n"
      ],
      "execution_count": null,
      "outputs": []
    },
    {
      "cell_type": "code",
      "metadata": {
        "colab": {
          "base_uri": "https://localhost:8080/"
        },
        "id": "DeEIuDk2HFwh",
        "outputId": "cd80291f-0c7f-478d-c4f5-a53fd397631f"
      },
      "source": [
        "def transform_features(df):\n",
        "\n",
        "   # From all columns dropping those columns with 5% or more missing value\n",
        "    number_miss = df.isnull().sum()\n",
        "    drop_missing_cols = number_miss[(number_miss > len(df)/20)].sort_values()\n",
        "    df = df.drop(drop_missing_cols.index, axis=1)\n",
        "\n",
        "  #Dropping text column with one or more missing values\n",
        "    text_counts = df.select_dtypes(include = [\"object\"]).isnull().sum()\n",
        "    text_counts = text_counts.sort_values(ascending = False)\n",
        "    drop_missing_cols_2 = text_counts[text_counts > 0]\n",
        "    df= df.drop(drop_missing_cols_2.index, axis=1)\n",
        "\n",
        "  #Filling the numerical columns with the most common value\n",
        "    num_missing = df.select_dtypes(include=[\"int\", \"float\"]).isnull().sum()\n",
        "    fix_numcols = num_missing[(num_missing< len(df)*0.05) & (num_missing>0)].sort_values()##\n",
        "    replace_values = df[fix_numcols.index].mode().to_dict(orient = \"records\")[0]\n",
        "    df = df.fillna(replace_values)\n",
        "  \n",
        "\n",
        "  #Data regarding specific years ('Year Remod/Add', 'Year Built', Yr sold) may not be usable for predecting the values\n",
        "  #Although, calculating difference between the two columns may be of value\n",
        "    yr_sold= df[\"Yr Sold\"] - df[\"Year Built\"]\n",
        "    years_remod = df[\"Yr Sold\"] - df[\"Year Remod/Add\"]\n",
        "    df[\"Years Remod\"] = years_remod\n",
        "    df[\"Years Before Sale\"] = yr_sold\n",
        "  \n",
        "  \n",
        "    df = df.drop([2180],axis=0)\n",
        "  \n",
        "  \n",
        "    df = df.drop([1702,2181], axis=0)\n",
        "    df = df.drop([\"Year Built\", \"Year Remod/Add\"], axis=1)\n",
        "    df = df.drop([\"Order\", \"PID\"], axis = 1)\n",
        "    df = df.drop([\"Mo Sold\", \"Sale Type\", \"Sale Condition\"],axis=1)\n",
        "\n",
        "  # elimnating 1 observations which correspond to unusual sales, sales of houses of more than 5000 square meters\n",
        "    wrong_rows = df[df[\"Gr Liv Area\"]>5000]\n",
        "    df= df.drop(wrong_rows.index, axis=0)\n",
        "\n",
        "    return df\n",
        "\n",
        "def select_features(df):\n",
        "    num_df = df.select_dtypes(include=[\"int\",\"float\"])\n",
        "    abs_corr = num_df.corr()[\"SalePrice\"].abs().sort_values()\n",
        "    df = df.drop(abs_corr[abs_corr <0.4].index, axis = 1)\n",
        "\n",
        "    nominal_features = ['MS Zoning', 'Street', 'Lot Shape', 'Land Contour', 'Utilities', 'Lot Config', 'Land Slope', 'Neighborhood', 'Condition 1', 'Condition 2', 'Bldg Type', 'House Style', 'Overall Qual', 'Roof Style',\n",
        "       'Roof Matl', 'Exterior 1st', 'Exterior 2nd', 'Mas Vnr Area', 'Exter Qual', 'Exter Cond', 'Foundation', 'Total Bsmt SF', 'Heating', 'Heating QC', 'Central Air', '1st Flr SF', 'Gr Liv Area', 'Full Bath',\n",
        "       'Kitchen Qual', 'Functional', 'Garage Cars', 'Garage Area', 'Paved Drive', 'Years Remod', 'Years Before Sale']\n",
        "\n",
        "    transform_cat_columns = []\n",
        "    for col in nominal_features:\n",
        "        if col in df.columns:\n",
        "            transform_cat_columns.append(col)\n",
        "      \n",
        "    uniquness_count = df[transform_cat_columns].apply(lambda col: len(col.value_counts())).sort_values()\n",
        "    drop_nonuniq_cols = uniquness_count[uniquness_count > 10].index\n",
        "    df = df.drop(drop_nonuniq_cols, axis=1)\n",
        "    \n",
        "\n",
        "    text_cols = df.select_dtypes(include = [\"object\"])\n",
        "    for col in text_cols:\n",
        "      df[col] = df[col].astype(\"category\")\n",
        "  \n",
        "    df = pd.concat([df, pd.get_dummies(df.select_dtypes(include=[\"category\"]))],axis=1)\n",
        "    df = df.drop(text_cols, axis=1)\n",
        "    \n",
        "\n",
        "    return df\n",
        "\n",
        "def train_and_test(df, k=0):\n",
        "    numeric_df = df.select_dtypes(include=['int', 'float'])\n",
        "    \n",
        "    features = numeric_df.columns.drop(\"SalePrice\")\n",
        "    lr = linear_model.LinearRegression()  \n",
        "    mse = mean_squared_error\n",
        "    \n",
        "    if k == 0:\n",
        "      train = df[:1460]\n",
        "      test = df[1460:]\n",
        "      lr.fit(train[features], train[\"SalePrice\"])\n",
        "      test_prediction = lr.predict(test[features])\n",
        "      rmse = np.sqrt(mse(test_prediction, test[\"SalePrice\"]))\n",
        "      return rmse\n",
        "    if k == 1:# Randomize *all* rows (frac=1) from `df` and return\n",
        "      shuffle_df = df.sample(frac=1)\n",
        "      train_df = df[:1460]\n",
        "      test_df = df[1460:]\n",
        "      lr.fit(train_df[features], train_df[\"SalePrice\"])\n",
        "      test_prediction = lr.predict(test_df[features])\n",
        "      rmse_1 = np.sqrt(mse( test_df[\"SalePrice\"],test_prediction))\n",
        "\n",
        "      lr.fit(test_df[features], test_df[\"SalePrice\"])\n",
        "      train_prediction = lr.predict(train_df[features])\n",
        "      rmse_2 = np.sqrt(mse(train_prediction, train_df[\"SalePrice\"]))\n",
        "      av_rmse = np.mean([rmse_1,rmse_2])\n",
        "      return av_rmse\n",
        "\n",
        "# The actual train and test validation only uses a half of our data for training the model, and the other for testing. \n",
        "# Using cross validation and randomly selecting our data for training, we can avoid some bias that could be happend when only select a part of the data for training. \n",
        "# we use k-fold cross validation\n",
        "       #splitting the full dataset into k equal length partitions.\n",
        "       #selecting k-1 partitions as the training set and\n",
        "       #selecting the remaining partition as the test set\n",
        "       #training the model on the training set.\n",
        "       #using the trained model to predict labels on the test fold.\n",
        "       #computing the test fold's error metric.\n",
        "       #repeating all of the above steps k-1 times, until each partition has been used as the test set for an iteration.\n",
        "       #calculating the mean of the k error values. \n",
        "\n",
        "    else:\n",
        "      KF = KFold(n_splits=k, shuffle=True)\n",
        "      rmse_val = []\n",
        "      for train_index, test_index in KF.split(df):\n",
        "        train = df.iloc[train_index]\n",
        "        test = df.iloc[test_index]\n",
        "        lr.fit(train[features], train[\"SalePrice\"])\n",
        "        predict = lr.predict(test[features])\n",
        "        rmse = np.sqrt(mse(test[\"SalePrice\"], predict))\n",
        "        rmse_val.append(rmse)\n",
        "      av_rmse = np.mean(rmse_val)\n",
        "      return av_rmse\n",
        "\n",
        "\n",
        "df = pd.read_csv(\"/content/drive/MyDrive/AmesHousing.csv\")\n",
        "transform_df = transform_features(df)\n",
        "filtered_df = select_features(transform_df)\n",
        "rmse = train_and_test(filtered_df, k=4) \n",
        "rmse"
      ],
      "execution_count": null,
      "outputs": [
        {
          "output_type": "execute_result",
          "data": {
            "text/plain": [
              "36941.61436224246"
            ]
          },
          "metadata": {
            "tags": []
          },
          "execution_count": 425
        }
      ]
    },
    {
      "cell_type": "markdown",
      "metadata": {
        "id": "XwotCaBPleMf"
      },
      "source": [
        "In the conclusion we can see that the rmse values has been decreased after doing feature enginerring and also using more than one feature to determine the Sale prices of the hose."
      ]
    }
  ]
}